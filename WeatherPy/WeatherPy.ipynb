{
 "cells": [
  {
   "cell_type": "markdown",
   "metadata": {},
   "source": [
    "# WeatherPy\n",
    "----\n"
   ]
  },
  {
   "cell_type": "markdown",
   "metadata": {},
   "source": [
    "* Observations are explained below the plots\n",
    "\n"
   ]
  },
  {
   "cell_type": "code",
   "execution_count": 2,
   "metadata": {
    "scrolled": true
   },
   "outputs": [],
   "source": [
    "# Dependencies and Setup\n",
    "import matplotlib.pyplot as plt\n",
    "import pandas as pd\n",
    "import numpy as np\n",
    "import requests\n",
    "import time\n",
    "from scipy.stats import linregress\n",
    "from pprint import pprint\n",
    "\n",
    "# Import API key\n",
    "from config import api_key\n",
    "\n",
    "# Incorporated citipy to determine city based on latitude and longitude\n",
    "from citipy import citipy\n",
    "\n",
    "# Output File (CSV)\n",
    "output_data_file = \"output_data/cities.csv\"\n",
    "\n",
    "# Range of latitudes and longitudes\n",
    "lat_range = (-90, 90)\n",
    "lng_range = (-180, 180)"
   ]
  },
  {
   "cell_type": "markdown",
   "metadata": {},
   "source": [
    "## Generate Cities List"
   ]
  },
  {
   "cell_type": "code",
   "execution_count": 3,
   "metadata": {},
   "outputs": [
    {
     "data": {
      "text/plain": [
       "630"
      ]
     },
     "execution_count": 3,
     "metadata": {},
     "output_type": "execute_result"
    }
   ],
   "source": [
    "## List for holding lat_lngs and cities\n",
    "lat_lngs = []\n",
    "cities = []\n",
    "\n",
    "# Create a set of random lat and lng combinations\n",
    "lats = np.random.uniform(lat_range[0], lat_range[1], size=1500)\n",
    "lngs = np.random.uniform(lng_range[0], lng_range[1], size=1500)\n",
    "lat_lngs = zip(lats, lngs)\n",
    "\n",
    "# Identify nearest city for each lat, lng combination\n",
    "for lat_lng in lat_lngs:\n",
    "    city = citipy.nearest_city(lat_lng[0], lat_lng[1]).city_name\n",
    "    \n",
    "    # If the city is unique, then add it to a our cities list\n",
    "    if city not in cities:\n",
    "        cities.append(city)\n",
    "\n",
    "# Print the city count to confirm sufficient count\n",
    "len(cities)"
   ]
  },
  {
   "cell_type": "markdown",
   "metadata": {},
   "source": [
    "## Perform API Calls\n",
    "* Perform a weather check on each city using a series of successive API calls.\n",
    "* Include a print log of each city as it'sbeing processed (with the city number and city name).\n"
   ]
  },
  {
   "cell_type": "code",
   "execution_count": 4,
   "metadata": {},
   "outputs": [],
   "source": [
    "url=\"http://api.openweathermap.org/data/2.5/weather?\"\n",
    "key=f\"appid={api_key}\"\n"
   ]
  },
  {
   "cell_type": "code",
   "execution_count": null,
   "metadata": {},
   "outputs": [],
   "source": [
    "# city=\"Los Angeles\"\n",
    "\n",
    "# full_url=f\"{url}q={city}&{key}&units=metric\"\n",
    "\n",
    "# response = requests.get(full_url)\n",
    "# data = response.json()\n",
    "# pprint(data)\n",
    "\n",
    "\n",
    "# City_Name=data[\"name\"]\n",
    "# Country=data[\"sys\"][\"country\"]\n",
    "# Date=data[\"dt\"]\n",
    "# Lat=data[\"coord\"][\"lat\"]\n",
    "# Lng=data[\"coord\"][\"lon\"]\n",
    "# Temp=data[\"main\"][\"temp_max\"]\n",
    "# Humid=data[\"main\"][\"humidity\"]\n",
    "# Cloud=data[\"clouds\"][\"all\"]\n",
    "# Wind_Speed=data[\"wind\"][\"speed\"]"
   ]
  },
  {
   "cell_type": "code",
   "execution_count": 5,
   "metadata": {},
   "outputs": [
    {
     "name": "stdout",
     "output_type": "stream",
     "text": [
      "Beginning Data Retrieval\n",
      "-----------------------------\n",
      "Processing record 1 of Set 1 | geraldton\n",
      "Processing record 2 of Set 1 | halifax\n",
      "Processing record 3 of Set 1 | torbay\n",
      "Processing record 4 of Set 1 | nikolskoye\n",
      "Processing record 5 of Set 1 | busselton\n",
      "Processing record 6 of Set 1 | barrow\n",
      "Processing record 7 of Set 1 | bluff\n",
      "Processing record 8 of Set 1 | papillion\n",
      "Processing record 9 of Set 1 | ushuaia\n",
      "Processing record 10 of Set 1 | arraial do cabo\n",
      "Processing record 11 of Set 1 | frontera\n",
      "Processing record 12 of Set 1 | mataura\n",
      "Processing record 13 of Set 1 | salalah\n",
      "Processing record 14 of Set 1 | esperance\n",
      "Processing record 15 of Set 1 | sitka\n",
      "Processing record 16 of Set 1 | cape town\n",
      "City not found. Skipping...\n",
      "Processing record 17 of Set 1 | tromso\n",
      "Processing record 18 of Set 1 | marienburg\n",
      "Processing record 19 of Set 1 | chuy\n",
      "Processing record 20 of Set 1 | broken hill\n",
      "Processing record 21 of Set 1 | yellowknife\n",
      "Processing record 22 of Set 1 | dikson\n",
      "Processing record 23 of Set 1 | hit\n",
      "Processing record 24 of Set 1 | thunder bay\n",
      "Processing record 25 of Set 1 | tilichiki\n",
      "Processing record 26 of Set 1 | port hardy\n",
      "Processing record 27 of Set 1 | lorengau\n",
      "Processing record 28 of Set 1 | ust-maya\n",
      "Processing record 29 of Set 1 | vaini\n",
      "Processing record 30 of Set 1 | jamestown\n",
      "Processing record 31 of Set 1 | zhigansk\n",
      "Processing record 32 of Set 1 | castro\n",
      "Processing record 33 of Set 1 | zaysan\n",
      "Processing record 34 of Set 1 | lebu\n",
      "Processing record 35 of Set 1 | lagoa\n",
      "Processing record 36 of Set 1 | lyuban\n",
      "Processing record 37 of Set 1 | hasaki\n",
      "Processing record 38 of Set 1 | guerrero negro\n",
      "City not found. Skipping...\n",
      "Processing record 39 of Set 1 | port lincoln\n",
      "Processing record 40 of Set 1 | east london\n",
      "Processing record 41 of Set 1 | cidreira\n",
      "Processing record 42 of Set 1 | mar del plata\n",
      "Processing record 43 of Set 1 | mahebourg\n",
      "Processing record 44 of Set 1 | hithadhoo\n",
      "Processing record 45 of Set 1 | buraydah\n",
      "Processing record 46 of Set 1 | puerto ayora\n",
      "Processing record 47 of Set 1 | mana\n",
      "Processing record 48 of Set 1 | rosarito\n",
      "Processing record 49 of Set 1 | zhuhai\n",
      "Processing record 50 of Set 1 | santa cruz cabralia\n",
      "Processing record 51 of Set 1 | cayenne\n",
      "Processing record 52 of Set 1 | rockhampton\n",
      "Processing record 53 of Set 1 | najran\n",
      "Processing record 54 of Set 1 | saint-philippe\n",
      "Processing record 55 of Set 1 | dauphin\n",
      "Processing record 56 of Set 1 | khatanga\n",
      "City not found. Skipping...\n",
      "Processing record 57 of Set 1 | djambala\n",
      "Processing record 58 of Set 1 | palmer\n",
      "Processing record 59 of Set 1 | saskylakh\n",
      "Processing record 60 of Set 1 | punta arenas\n",
      "Processing record 61 of Set 1 | karratha\n",
      "Processing record 62 of Set 1 | poum\n",
      "Processing record 63 of Set 1 | port alfred\n",
      "Processing record 64 of Set 1 | rikitea\n",
      "Processing record 65 of Set 1 | bredasdorp\n",
      "Processing record 66 of Set 1 | fare\n",
      "City not found. Skipping...\n",
      "Processing record 67 of Set 1 | airai\n",
      "Processing record 68 of Set 1 | mocuba\n",
      "Processing record 69 of Set 1 | panaba\n",
      "Processing record 70 of Set 1 | dudinka\n",
      "Processing record 71 of Set 1 | biak\n",
      "Processing record 72 of Set 1 | codrington\n",
      "Processing record 73 of Set 1 | port blair\n",
      "Processing record 74 of Set 1 | ponta do sol\n",
      "Processing record 75 of Set 1 | krutinka\n",
      "Processing record 76 of Set 1 | calama\n",
      "Processing record 77 of Set 1 | palencia\n",
      "Processing record 78 of Set 1 | nicoya\n",
      "Processing record 79 of Set 1 | ancud\n",
      "Processing record 80 of Set 1 | olafsvik\n",
      "Processing record 81 of Set 1 | kapaa\n",
      "Processing record 82 of Set 1 | laguna\n",
      "Processing record 83 of Set 1 | rio grande\n",
      "Processing record 84 of Set 1 | georgetown\n",
      "Processing record 85 of Set 1 | uige\n",
      "Processing record 86 of Set 1 | new norfolk\n",
      "City not found. Skipping...\n",
      "Processing record 87 of Set 1 | vengerovo\n",
      "Processing record 88 of Set 1 | cherskiy\n",
      "Processing record 89 of Set 1 | bilibino\n",
      "Processing record 90 of Set 1 | vila franca do campo\n",
      "Processing record 91 of Set 1 | yaounde\n",
      "Processing record 92 of Set 1 | narsaq\n",
      "Processing record 93 of Set 1 | vao\n",
      "Processing record 94 of Set 1 | besuki\n",
      "Processing record 95 of Set 1 | billings\n",
      "Processing record 96 of Set 1 | znamenskoye\n",
      "Processing record 97 of Set 1 | tacuarembo\n",
      "Processing record 98 of Set 1 | teya\n",
      "Processing record 99 of Set 1 | sioux lookout\n",
      "City not found. Skipping...\n",
      "Processing record 100 of Set 1 | gornopravdinsk\n",
      "Processing record 101 of Set 1 | kodiak\n",
      "Processing record 102 of Set 1 | eskil\n",
      "Processing record 103 of Set 1 | saint george\n",
      "Processing record 104 of Set 1 | harer\n",
      "Processing record 105 of Set 1 | tocopilla\n",
      "Processing record 106 of Set 1 | bethel\n",
      "Processing record 107 of Set 1 | aklavik\n",
      "Processing record 108 of Set 1 | hermanus\n",
      "Processing record 109 of Set 1 | souillac\n",
      "Processing record 110 of Set 1 | haimen\n",
      "Processing record 111 of Set 1 | olavarria\n",
      "Processing record 112 of Set 1 | iglesias\n",
      "Processing record 113 of Set 1 | san patricio\n",
      "Processing record 114 of Set 1 | albany\n",
      "Processing record 115 of Set 1 | hervey bay\n",
      "City not found. Skipping...\n",
      "Processing record 116 of Set 1 | stornoway\n",
      "Processing record 117 of Set 1 | nanakuli\n",
      "Processing record 118 of Set 1 | hilo\n",
      "Processing record 119 of Set 1 | ufa\n",
      "Processing record 120 of Set 1 | cockburn town\n",
      "Processing record 121 of Set 1 | aksu\n",
      "Processing record 122 of Set 1 | staroye drozhzhanoye\n",
      "Processing record 123 of Set 1 | rindal\n",
      "Processing record 124 of Set 1 | bradeni\n",
      "Processing record 125 of Set 1 | pokhara\n",
      "Processing record 126 of Set 1 | neiafu\n",
      "Processing record 127 of Set 1 | butaritari\n",
      "Processing record 128 of Set 1 | stillwater\n",
      "Processing record 129 of Set 1 | anderson\n",
      "Processing record 130 of Set 1 | qaanaaq\n",
      "City not found. Skipping...\n",
      "Processing record 131 of Set 1 | bereda\n",
      "Processing record 132 of Set 1 | port hawkesbury\n",
      "Processing record 133 of Set 1 | saldanha\n",
      "Processing record 134 of Set 1 | yar-sale\n",
      "Processing record 135 of Set 1 | thompson\n",
      "Processing record 136 of Set 1 | coolum beach\n",
      "Processing record 137 of Set 1 | lodja\n",
      "Processing record 138 of Set 1 | saint-donat-de-montcalm\n",
      "Processing record 139 of Set 1 | svetlyy\n",
      "Processing record 140 of Set 1 | san quintin\n",
      "Processing record 141 of Set 1 | constitucion\n",
      "Processing record 142 of Set 1 | hobart\n",
      "Processing record 143 of Set 1 | victoria\n",
      "Processing record 144 of Set 1 | taoudenni\n",
      "Processing record 145 of Set 1 | miraflores\n",
      "Processing record 146 of Set 1 | tigre\n",
      "Processing record 147 of Set 1 | vostok\n",
      "Processing record 148 of Set 1 | katsuura\n",
      "Processing record 149 of Set 1 | faya\n",
      "Processing record 150 of Set 1 | dospat\n",
      "Processing record 151 of Set 1 | san ignacio\n",
      "Processing record 152 of Set 1 | wamba\n",
      "Processing record 153 of Set 1 | bambous virieux\n",
      "Processing record 154 of Set 1 | yulara\n",
      "Processing record 155 of Set 1 | atambua\n",
      "Processing record 156 of Set 1 | tiksi\n",
      "Processing record 157 of Set 1 | les cayes\n",
      "Processing record 158 of Set 1 | yerbogachen\n",
      "Processing record 159 of Set 1 | nanchang\n",
      "Processing record 160 of Set 1 | merauke\n",
      "Processing record 161 of Set 1 | tura\n",
      "Processing record 162 of Set 1 | mount pleasant\n",
      "Processing record 163 of Set 1 | marawi\n",
      "Processing record 164 of Set 1 | tuktoyaktuk\n",
      "Processing record 165 of Set 1 | ossora\n",
      "Processing record 166 of Set 1 | tymovskoye\n",
      "Processing record 167 of Set 1 | vardo\n",
      "Processing record 168 of Set 1 | bengkulu\n",
      "City not found. Skipping...\n",
      "Processing record 169 of Set 1 | cumanayagua\n",
      "Processing record 170 of Set 1 | awjilah\n",
      "Processing record 171 of Set 1 | port elizabeth\n",
      "Processing record 172 of Set 1 | kutum\n",
      "Processing record 173 of Set 1 | carnarvon\n",
      "Processing record 174 of Set 1 | maloy\n",
      "Processing record 175 of Set 1 | moussoro\n",
      "Processing record 176 of Set 1 | tuatapere\n",
      "City not found. Skipping...\n",
      "Processing record 177 of Set 1 | vila\n",
      "Processing record 178 of Set 1 | san policarpo\n",
      "Processing record 179 of Set 1 | rawson\n",
      "Processing record 180 of Set 1 | shimoda\n",
      "Processing record 181 of Set 1 | londoko\n",
      "Processing record 182 of Set 1 | bathsheba\n",
      "Processing record 183 of Set 1 | ahuimanu\n",
      "Processing record 184 of Set 1 | marang\n",
      "Processing record 185 of Set 1 | jizan\n",
      "Processing record 186 of Set 1 | manokwari\n",
      "Processing record 187 of Set 1 | fairbanks\n",
      "Processing record 188 of Set 1 | srednekolymsk\n",
      "Processing record 189 of Set 1 | manaure\n",
      "Processing record 190 of Set 1 | geilo\n",
      "Processing record 191 of Set 1 | anadyr\n",
      "Processing record 192 of Set 1 | tiarei\n",
      "Processing record 193 of Set 1 | erenhot\n",
      "Processing record 194 of Set 1 | naze\n",
      "City not found. Skipping...\n",
      "Processing record 195 of Set 1 | nizhniy baskunchak\n",
      "Processing record 196 of Set 1 | shenzhen\n",
      "Processing record 197 of Set 1 | matara\n",
      "Processing record 198 of Set 1 | karpathos\n",
      "Processing record 199 of Set 1 | upernavik\n",
      "Processing record 200 of Set 1 | kahului\n",
      "Processing record 201 of Set 1 | bangassou\n",
      "Processing record 202 of Set 1 | aksarayskiy\n",
      "Processing record 203 of Set 1 | kaeo\n",
      "Processing record 204 of Set 1 | walvis bay\n",
      "Processing record 205 of Set 1 | paamiut\n",
      "Processing record 206 of Set 1 | taltal\n",
      "Processing record 207 of Set 1 | pangnirtung\n",
      "Processing record 208 of Set 1 | isangel\n",
      "Processing record 209 of Set 1 | tessalit\n",
      "Processing record 210 of Set 1 | altay\n",
      "City not found. Skipping...\n",
      "Processing record 211 of Set 1 | jibuti\n",
      "Processing record 212 of Set 1 | bardiyah\n",
      "Processing record 213 of Set 1 | port macquarie\n",
      "Processing record 214 of Set 1 | cabo san lucas\n",
      "Processing record 215 of Set 1 | atar\n",
      "Processing record 216 of Set 1 | bandarbeyla\n",
      "Processing record 217 of Set 1 | sao filipe\n",
      "Processing record 218 of Set 1 | husavik\n",
      "Processing record 219 of Set 1 | usolye-sibirskoye\n",
      "Processing record 220 of Set 1 | huron\n",
      "Processing record 221 of Set 1 | redmond\n",
      "Processing record 222 of Set 1 | atuona\n",
      "Processing record 223 of Set 1 | sisimiut\n",
      "City not found. Skipping...\n",
      "Processing record 224 of Set 1 | acarau\n",
      "Processing record 225 of Set 1 | dingle\n",
      "Processing record 226 of Set 1 | lavrentiya\n",
      "Processing record 227 of Set 1 | springfield\n",
      "Processing record 228 of Set 1 | spremberg\n",
      "Processing record 229 of Set 1 | lubao\n",
      "Processing record 230 of Set 1 | llanes\n",
      "Processing record 231 of Set 1 | puerto escondido\n",
      "City not found. Skipping...\n",
      "Processing record 232 of Set 1 | qasigiannguit\n",
      "Processing record 233 of Set 1 | popondetta\n",
      "Processing record 234 of Set 1 | gazli\n",
      "Processing record 235 of Set 1 | yokadouma\n",
      "Processing record 236 of Set 1 | padang\n",
      "Processing record 237 of Set 1 | flinders\n",
      "Processing record 238 of Set 1 | beloha\n",
      "Processing record 239 of Set 1 | leningradskiy\n",
      "Processing record 240 of Set 1 | kavieng\n",
      "Processing record 241 of Set 1 | daman\n",
      "Processing record 242 of Set 1 | hobbs\n",
      "Processing record 243 of Set 1 | abonnema\n",
      "Processing record 244 of Set 1 | warrington\n",
      "Processing record 245 of Set 1 | hualmay\n",
      "Processing record 246 of Set 1 | ulaanbaatar\n",
      "Processing record 247 of Set 1 | lagos\n",
      "Processing record 248 of Set 1 | havelock\n",
      "Processing record 249 of Set 1 | majene\n",
      "Processing record 250 of Set 1 | weiser\n",
      "City not found. Skipping...\n",
      "City not found. Skipping...\n",
      "Processing record 251 of Set 1 | twentynine palms\n",
      "Processing record 252 of Set 1 | avarua\n",
      "Processing record 253 of Set 1 | kearney\n",
      "Processing record 254 of Set 1 | uray\n",
      "Processing record 255 of Set 1 | maiduguri\n",
      "Processing record 256 of Set 1 | le mans\n",
      "Processing record 257 of Set 1 | margate\n",
      "Processing record 258 of Set 1 | voh\n",
      "Processing record 259 of Set 1 | nanortalik\n",
      "Processing record 260 of Set 1 | yurimaguas\n",
      "Processing record 261 of Set 1 | talnakh\n",
      "Processing record 262 of Set 1 | tanggu\n",
      "Processing record 263 of Set 1 | severo-kurilsk\n",
      "Processing record 264 of Set 1 | taurage\n",
      "Processing record 265 of Set 1 | provideniya\n",
      "Processing record 266 of Set 1 | nikolayevsk-na-amure\n",
      "City not found. Skipping...\n",
      "Processing record 267 of Set 1 | oga\n",
      "Processing record 268 of Set 1 | ola\n",
      "Processing record 269 of Set 1 | ashcroft\n",
      "Processing record 270 of Set 1 | asyut\n",
      "Processing record 271 of Set 1 | lompoc\n",
      "Processing record 272 of Set 1 | uni\n",
      "Processing record 273 of Set 1 | stutterheim\n",
      "Processing record 274 of Set 1 | pavlohrad\n",
      "City not found. Skipping...\n",
      "Processing record 275 of Set 1 | tahoua\n",
      "Processing record 276 of Set 1 | salvador\n",
      "Processing record 277 of Set 1 | nouadhibou\n",
      "Processing record 278 of Set 1 | san cristobal\n",
      "Processing record 279 of Set 1 | chokurdakh\n",
      "Processing record 280 of Set 1 | eureka\n",
      "Processing record 281 of Set 1 | ahualulco\n",
      "City not found. Skipping...\n",
      "Processing record 282 of Set 1 | birjand\n",
      "Processing record 283 of Set 1 | bako\n",
      "City not found. Skipping...\n",
      "Processing record 284 of Set 1 | sosua\n",
      "Processing record 285 of Set 1 | santa cruz\n",
      "Processing record 286 of Set 1 | mount gambier\n",
      "Processing record 287 of Set 1 | parbhani\n",
      "Processing record 288 of Set 1 | sabaudia\n",
      "Processing record 289 of Set 1 | clyde river\n",
      "Processing record 290 of Set 1 | boffa\n",
      "Processing record 291 of Set 1 | roseti\n",
      "Processing record 292 of Set 1 | lappeenranta\n",
      "Processing record 293 of Set 1 | santiago del estero\n",
      "Processing record 294 of Set 1 | lima\n",
      "Processing record 295 of Set 1 | ilulissat\n",
      "Processing record 296 of Set 1 | kaitangata\n",
      "Processing record 297 of Set 1 | alice springs\n",
      "Processing record 298 of Set 1 | ostrovnoy\n",
      "Processing record 299 of Set 1 | kiama\n",
      "Processing record 300 of Set 1 | bulgan\n",
      "Processing record 301 of Set 1 | luderitz\n",
      "Processing record 302 of Set 1 | paita\n",
      "Processing record 303 of Set 1 | muros\n",
      "Processing record 304 of Set 1 | nome\n",
      "Processing record 305 of Set 1 | saint-louis\n",
      "Processing record 306 of Set 1 | katangli\n",
      "Processing record 307 of Set 1 | visnes\n",
      "Processing record 308 of Set 1 | nainpur\n",
      "Processing record 309 of Set 1 | lasem\n",
      "Processing record 310 of Set 1 | araria\n",
      "Processing record 311 of Set 1 | conceicao do araguaia\n",
      "City not found. Skipping...\n",
      "Processing record 312 of Set 1 | norman wells\n",
      "City not found. Skipping...\n",
      "Processing record 313 of Set 1 | praya\n",
      "Processing record 314 of Set 1 | henties bay\n",
      "Processing record 315 of Set 1 | bernay\n",
      "Processing record 316 of Set 1 | sopur\n",
      "Processing record 317 of Set 1 | kimbe\n",
      "Processing record 318 of Set 1 | ubaira\n",
      "Processing record 319 of Set 1 | emba\n",
      "Processing record 320 of Set 1 | oussouye\n",
      "Processing record 321 of Set 1 | amuntai\n",
      "Processing record 322 of Set 1 | sinnamary\n",
      "Processing record 323 of Set 1 | abbeville\n",
      "Processing record 324 of Set 1 | tasiilaq\n",
      "Processing record 325 of Set 1 | kudahuvadhoo\n",
      "Processing record 326 of Set 1 | sibu\n",
      "Processing record 327 of Set 1 | balotra\n",
      "Processing record 328 of Set 1 | saint-augustin\n",
      "Processing record 329 of Set 1 | havoysund\n",
      "City not found. Skipping...\n",
      "Processing record 330 of Set 1 | kautokeino\n",
      "Processing record 331 of Set 1 | muisne\n",
      "Processing record 332 of Set 1 | ginir\n",
      "Processing record 333 of Set 1 | maraba\n",
      "Processing record 334 of Set 1 | honiara\n",
      "City not found. Skipping...\n",
      "Processing record 335 of Set 1 | zirandaro\n",
      "Processing record 336 of Set 1 | samut songkhram\n",
      "Processing record 337 of Set 1 | bara\n",
      "Processing record 338 of Set 1 | yarega\n",
      "Processing record 339 of Set 1 | nizip\n",
      "Processing record 340 of Set 1 | collie\n",
      "Processing record 341 of Set 1 | qena\n",
      "Processing record 342 of Set 1 | pangai\n",
      "Processing record 343 of Set 1 | mehriz\n",
      "City not found. Skipping...\n",
      "Processing record 344 of Set 1 | arman\n",
      "Processing record 345 of Set 1 | haysyn\n",
      "Processing record 346 of Set 1 | norrkoping\n",
      "Processing record 347 of Set 1 | fortuna\n",
      "Processing record 348 of Set 1 | kenai\n",
      "Processing record 349 of Set 1 | turukhansk\n",
      "Processing record 350 of Set 1 | marabba\n",
      "Processing record 351 of Set 1 | houma\n",
      "Processing record 352 of Set 1 | xudat\n",
      "Processing record 353 of Set 1 | roebourne\n",
      "City not found. Skipping...\n",
      "Processing record 354 of Set 1 | karachev\n",
      "Processing record 355 of Set 1 | bundaberg\n",
      "Processing record 356 of Set 1 | tsimlyansk\n",
      "Processing record 357 of Set 1 | borogontsy\n",
      "Processing record 358 of Set 1 | coahuayana\n",
      "Processing record 359 of Set 1 | huarmey\n",
      "Processing record 360 of Set 1 | tripoli\n",
      "Processing record 361 of Set 1 | burns lake\n",
      "Processing record 362 of Set 1 | pitimbu\n",
      "Processing record 363 of Set 1 | kisangani\n",
      "Processing record 364 of Set 1 | lasa\n",
      "Processing record 365 of Set 1 | faanui\n",
      "Processing record 366 of Set 1 | klaksvik\n",
      "Processing record 367 of Set 1 | zhezkazgan\n",
      "Processing record 368 of Set 1 | malibu\n",
      "Processing record 369 of Set 1 | namibe\n",
      "Processing record 370 of Set 1 | north bend\n",
      "Processing record 371 of Set 1 | honningsvag\n",
      "Processing record 372 of Set 1 | huimanguillo\n",
      "Processing record 373 of Set 1 | athabasca\n",
      "Processing record 374 of Set 1 | igrim\n",
      "Processing record 375 of Set 1 | maragogi\n",
      "Processing record 376 of Set 1 | coquimbo\n",
      "Processing record 377 of Set 1 | kamaishi\n",
      "Processing record 378 of Set 1 | fukuma\n",
      "Processing record 379 of Set 1 | meybod\n",
      "Processing record 380 of Set 1 | imbituba\n",
      "Processing record 381 of Set 1 | saint-paul\n",
      "Processing record 382 of Set 1 | schladming\n",
      "Processing record 383 of Set 1 | russell\n",
      "Processing record 384 of Set 1 | muroto\n",
      "Processing record 385 of Set 1 | kidal\n",
      "Processing record 386 of Set 1 | xining\n",
      "Processing record 387 of Set 1 | shaunavon\n",
      "Processing record 388 of Set 1 | vredendal\n",
      "Processing record 389 of Set 1 | forestville\n",
      "Processing record 390 of Set 1 | xinqing\n",
      "City not found. Skipping...\n",
      "Processing record 391 of Set 1 | elmira\n",
      "Processing record 392 of Set 1 | celestun\n",
      "Processing record 393 of Set 1 | vrangel\n",
      "Processing record 394 of Set 1 | skegness\n",
      "Processing record 395 of Set 1 | nador\n",
      "Processing record 396 of Set 1 | ust-nera\n",
      "Processing record 397 of Set 1 | povenets\n",
      "Processing record 398 of Set 1 | coihaique\n",
      "Processing record 399 of Set 1 | sohag\n",
      "Processing record 400 of Set 1 | gilroy\n",
      "Processing record 401 of Set 1 | chernyshevskiy\n",
      "Processing record 402 of Set 1 | bonthe\n",
      "Processing record 403 of Set 1 | saint-michel-des-saints\n",
      "Processing record 404 of Set 1 | sadova\n",
      "Processing record 405 of Set 1 | mackay\n",
      "Processing record 406 of Set 1 | ayan\n",
      "Processing record 407 of Set 1 | los llanos de aridane\n",
      "City not found. Skipping...\n",
      "Processing record 408 of Set 1 | luanda\n",
      "City not found. Skipping...\n",
      "Processing record 409 of Set 1 | indramayu\n",
      "Processing record 410 of Set 1 | massakory\n",
      "Processing record 411 of Set 1 | zhangye\n",
      "Processing record 412 of Set 1 | bianzhuang\n",
      "Processing record 413 of Set 1 | bairiki\n",
      "Processing record 414 of Set 1 | dhone\n",
      "Processing record 415 of Set 1 | kurchum\n",
      "Processing record 416 of Set 1 | sayat\n",
      "Processing record 417 of Set 1 | la rioja\n",
      "Processing record 418 of Set 1 | rockland\n",
      "Processing record 419 of Set 1 | baijiantan\n",
      "Processing record 420 of Set 1 | udachnyy\n",
      "Processing record 421 of Set 1 | beringovskiy\n",
      "Processing record 422 of Set 1 | dicabisagan\n",
      "City not found. Skipping...\n",
      "Processing record 423 of Set 1 | oktyabrskiy\n",
      "Processing record 424 of Set 1 | caohai\n",
      "Processing record 425 of Set 1 | huangmei\n",
      "Processing record 426 of Set 1 | tazovskiy\n",
      "City not found. Skipping...\n",
      "Processing record 427 of Set 1 | bataipora\n",
      "Processing record 428 of Set 1 | pundaguitan\n",
      "Processing record 429 of Set 1 | hamilton\n",
      "Processing record 430 of Set 1 | lewiston\n",
      "Processing record 431 of Set 1 | abaete\n",
      "Processing record 432 of Set 1 | seinajoki\n",
      "Processing record 433 of Set 1 | jinchang\n",
      "Processing record 434 of Set 1 | vanimo\n",
      "Processing record 435 of Set 1 | ranong\n",
      "Processing record 436 of Set 1 | bangkalan\n",
      "Processing record 437 of Set 1 | pavlovka\n",
      "City not found. Skipping...\n",
      "Processing record 438 of Set 1 | indiaroba\n",
      "City not found. Skipping...\n",
      "Processing record 439 of Set 1 | qeshm\n",
      "Processing record 440 of Set 1 | craig\n",
      "Processing record 441 of Set 1 | awbari\n",
      "Processing record 442 of Set 1 | altamont\n",
      "Processing record 443 of Set 1 | kinsale\n",
      "Processing record 444 of Set 1 | dargaville\n",
      "Processing record 445 of Set 1 | khor\n",
      "Processing record 446 of Set 1 | valparaiso\n",
      "Processing record 447 of Set 1 | urucara\n",
      "Processing record 448 of Set 1 | saint anthony\n",
      "Processing record 449 of Set 1 | mgandu\n",
      "Processing record 450 of Set 1 | mastic beach\n",
      "Processing record 451 of Set 1 | mochudi\n",
      "Processing record 452 of Set 1 | kibakwe\n",
      "Processing record 453 of Set 1 | porto novo\n",
      "Processing record 454 of Set 1 | abha\n",
      "Processing record 455 of Set 1 | piacabucu\n",
      "Processing record 456 of Set 1 | bambanglipuro\n",
      "Processing record 457 of Set 1 | hariana\n",
      "Processing record 458 of Set 1 | nerang\n",
      "Processing record 459 of Set 1 | kattivakkam\n",
      "City not found. Skipping...\n",
      "Processing record 460 of Set 1 | ketchikan\n",
      "Processing record 461 of Set 1 | san andres\n",
      "Processing record 462 of Set 1 | menongue\n",
      "Processing record 463 of Set 1 | trairi\n",
      "Processing record 464 of Set 1 | dali\n",
      "Processing record 465 of Set 1 | baiao\n",
      "Processing record 466 of Set 1 | wajima\n",
      "Processing record 467 of Set 1 | kankakee\n",
      "Processing record 468 of Set 1 | kenora\n",
      "Processing record 469 of Set 1 | tezu\n",
      "Processing record 470 of Set 1 | urumqi\n",
      "Processing record 471 of Set 1 | boa vista\n",
      "Processing record 472 of Set 1 | kontagora\n",
      "Processing record 473 of Set 1 | tarko-sale\n",
      "Processing record 474 of Set 1 | eganville\n",
      "Processing record 475 of Set 1 | kambove\n",
      "Processing record 476 of Set 1 | am timan\n",
      "Processing record 477 of Set 1 | talcahuano\n",
      "Processing record 478 of Set 1 | goksun\n",
      "Processing record 479 of Set 1 | nehe\n",
      "Processing record 480 of Set 1 | kollo\n",
      "Processing record 481 of Set 1 | black diamond\n",
      "Processing record 482 of Set 1 | cap malheureux\n",
      "City not found. Skipping...\n",
      "Processing record 483 of Set 1 | touros\n",
      "Processing record 484 of Set 1 | rivadavia\n",
      "Processing record 485 of Set 1 | copala\n",
      "Processing record 486 of Set 1 | grindavik\n",
      "Processing record 487 of Set 1 | chaiyaphum\n",
      "Processing record 488 of Set 1 | floro\n",
      "Processing record 489 of Set 1 | tshane\n",
      "Processing record 490 of Set 1 | egvekinot\n",
      "Processing record 491 of Set 1 | ponta delgada\n",
      "Processing record 492 of Set 1 | ingham\n",
      "Processing record 493 of Set 1 | ixtapa\n",
      "Processing record 494 of Set 1 | byron bay\n",
      "Processing record 495 of Set 1 | fayaoue\n",
      "Processing record 496 of Set 1 | canutama\n",
      "Processing record 497 of Set 1 | nizwa\n",
      "Processing record 498 of Set 1 | sao joao da barra\n",
      "Processing record 499 of Set 1 | baykit\n",
      "Processing record 500 of Set 1 | cap-chat\n",
      "Processing record 501 of Set 1 | camacha\n",
      "Processing record 502 of Set 1 | koroni\n",
      "Processing record 503 of Set 1 | maun\n",
      "Processing record 504 of Set 1 | dodge city\n",
      "Processing record 505 of Set 1 | inhambane\n",
      "Processing record 506 of Set 1 | ayr\n",
      "Processing record 507 of Set 1 | vestmanna\n",
      "Processing record 508 of Set 1 | san vicente\n",
      "Processing record 509 of Set 1 | mulanur\n",
      "Processing record 510 of Set 1 | sheltozero\n",
      "Processing record 511 of Set 1 | areosa\n",
      "Processing record 512 of Set 1 | fort frances\n",
      "Processing record 513 of Set 1 | pipri\n",
      "Processing record 514 of Set 1 | mantua\n",
      "Processing record 515 of Set 1 | hofn\n",
      "Processing record 516 of Set 1 | sola\n",
      "Processing record 517 of Set 1 | rapid valley\n",
      "Processing record 518 of Set 1 | dickinson\n",
      "Processing record 519 of Set 1 | dunedin\n",
      "Processing record 520 of Set 1 | hirara\n",
      "Processing record 521 of Set 1 | haines junction\n",
      "Processing record 522 of Set 1 | yarada\n",
      "Processing record 523 of Set 1 | ranipur\n",
      "City not found. Skipping...\n",
      "Processing record 524 of Set 1 | elizabeth city\n",
      "Processing record 525 of Set 1 | burgeo\n",
      "Processing record 526 of Set 1 | batagay-alyta\n",
      "Processing record 527 of Set 1 | calatayud\n",
      "City not found. Skipping...\n",
      "Processing record 528 of Set 1 | lac du bonnet\n",
      "Processing record 529 of Set 1 | ekibastuz\n",
      "Processing record 530 of Set 1 | kabanjahe\n",
      "Processing record 531 of Set 1 | achinsk\n",
      "Processing record 532 of Set 1 | mayumba\n",
      "Processing record 533 of Set 1 | makinsk\n",
      "Processing record 534 of Set 1 | aksha\n",
      "Processing record 535 of Set 1 | sao gabriel da cachoeira\n",
      "Processing record 536 of Set 1 | metro\n",
      "Processing record 537 of Set 1 | bonavista\n",
      "Processing record 538 of Set 1 | manakara\n",
      "Processing record 539 of Set 1 | kharod\n",
      "Processing record 540 of Set 1 | litovel\n",
      "Processing record 541 of Set 1 | yakeshi\n",
      "Processing record 542 of Set 1 | andenes\n",
      "Processing record 543 of Set 1 | kruisfontein\n",
      "Processing record 544 of Set 1 | ambon\n",
      "Processing record 545 of Set 1 | pacific grove\n",
      "Processing record 546 of Set 1 | meulaboh\n",
      "Processing record 547 of Set 1 | syamzha\n",
      "Processing record 548 of Set 1 | kushima\n",
      "City not found. Skipping...\n",
      "Processing record 549 of Set 1 | khorinsk\n",
      "Processing record 550 of Set 1 | pevek\n",
      "Processing record 551 of Set 1 | golyshmanovo\n",
      "Processing record 552 of Set 1 | samarai\n",
      "Processing record 553 of Set 1 | shushenskoye\n",
      "Processing record 554 of Set 1 | gambela\n",
      "Processing record 555 of Set 1 | caravelas\n",
      "Processing record 556 of Set 1 | dwarka\n",
      "City not found. Skipping...\n",
      "Processing record 557 of Set 1 | mecca\n",
      "Processing record 558 of Set 1 | pak kret\n",
      "Processing record 559 of Set 1 | santiago\n",
      "Processing record 560 of Set 1 | dolinsk\n",
      "Processing record 561 of Set 1 | buala\n",
      "Processing record 562 of Set 1 | zheleznodorozhnyy\n",
      "Processing record 563 of Set 1 | madimba\n",
      "Processing record 564 of Set 1 | komsomolskiy\n",
      "Processing record 565 of Set 1 | sfantu gheorghe\n",
      "Processing record 566 of Set 1 | oranjemund\n",
      "Processing record 567 of Set 1 | avera\n",
      "Processing record 568 of Set 1 | chimoio\n",
      "Processing record 569 of Set 1 | medicine hat\n",
      "Processing record 570 of Set 1 | semporna\n",
      "Processing record 571 of Set 1 | woodward\n",
      "Processing record 572 of Set 1 | asau\n",
      "Processing record 573 of Set 1 | ribeira grande\n",
      "Processing record 574 of Set 1 | palu\n",
      "Processing record 575 of Set 1 | la ronge\n",
      "Processing record 576 of Set 1 | yeppoon\n",
      "Processing record 577 of Set 1 | iqaluit\n",
      "Processing record 578 of Set 1 | waddan\n",
      "Processing record 579 of Set 1 | kuala terengganu\n",
      "Processing record 580 of Set 1 | badou\n",
      "Processing record 581 of Set 1 | nantucket\n",
      "Processing record 582 of Set 1 | adrar\n",
      "Processing record 583 of Set 1 | arcachon\n",
      "Processing record 584 of Set 1 | parakou\n",
      "City not found. Skipping...\n",
      "Processing record 585 of Set 1 | asfi\n",
      "City not found. Skipping...\n",
      "Processing record 586 of Set 1 | agadir\n",
      "Processing record 587 of Set 1 | parrita\n",
      "Processing record 588 of Set 1 | santa rosa\n",
      "Processing record 589 of Set 1 | bracebridge\n",
      "-----------------------------\n",
      "Data Retrieval Complete\n",
      "-----------------------------\n"
     ]
    }
   ],
   "source": [
    "# set up lists to hold reponse info\n",
    "City_Name = []\n",
    "Country = []\n",
    "Date = []\n",
    "Lat = []\n",
    "Lng = []\n",
    "Temp = []\n",
    "Humid = []\n",
    "Cloud = []\n",
    "Wind_Speed = []\n",
    "count = 0\n",
    "    \n",
    "# Loop through the list of cities and perform a request for data on each\n",
    "\n",
    "print(\"Beginning Data Retrieval\")     \n",
    "print(\"-----------------------------\")\n",
    "\n",
    "for city in cities:\n",
    "    weather_response = requests.get(f\"{url}&q={city}&{key}&units=imperial\")\n",
    "    weather_data = weather_response.json()\n",
    "    try:\n",
    "        City_Name.append(weather_data['name'])\n",
    "        Country.append(weather_data[\"sys\"][\"country\"])\n",
    "        Date.append(weather_data[\"dt\"])\n",
    "        Lat.append(weather_data[\"coord\"][\"lat\"])\n",
    "        Lng.append(weather_data[\"coord\"][\"lon\"])\n",
    "        Temp.append(weather_data[\"main\"][\"temp_max\"])\n",
    "        Humid.append(weather_data[\"main\"][\"humidity\"])\n",
    "        Cloud.append(weather_data[\"clouds\"][\"all\"])\n",
    "        Wind_Speed.append(weather_data[\"wind\"][\"speed\"])\n",
    "        count += 1\n",
    "        print(f\"Processing record {count} of Set 1 | {city}\")\n",
    "    except:\n",
    "        print(\"City not found. Skipping...\") \n",
    "        pass\n",
    "        \n",
    "print(\"-----------------------------\")\n",
    "print(\"Data Retrieval Complete\")      \n",
    "print(\"-----------------------------\")"
   ]
  },
  {
   "cell_type": "code",
   "execution_count": null,
   "metadata": {},
   "outputs": [],
   "source": [
    "\n",
    "        "
   ]
  },
  {
   "cell_type": "markdown",
   "metadata": {},
   "source": [
    "### Convert Raw Data to DataFrame\n",
    "* Export the city data into a .csv.\n",
    "* Display the DataFrame"
   ]
  },
  {
   "cell_type": "code",
   "execution_count": 6,
   "metadata": {},
   "outputs": [
    {
     "data": {
      "text/html": [
       "<div>\n",
       "<style scoped>\n",
       "    .dataframe tbody tr th:only-of-type {\n",
       "        vertical-align: middle;\n",
       "    }\n",
       "\n",
       "    .dataframe tbody tr th {\n",
       "        vertical-align: top;\n",
       "    }\n",
       "\n",
       "    .dataframe thead th {\n",
       "        text-align: right;\n",
       "    }\n",
       "</style>\n",
       "<table border=\"1\" class=\"dataframe\">\n",
       "  <thead>\n",
       "    <tr style=\"text-align: right;\">\n",
       "      <th></th>\n",
       "      <th>City</th>\n",
       "      <th>Latitude</th>\n",
       "      <th>Longitude</th>\n",
       "      <th>Max Temp</th>\n",
       "      <th>Humidity</th>\n",
       "      <th>Cloudiness</th>\n",
       "      <th>Wind Speed</th>\n",
       "      <th>Country</th>\n",
       "      <th>Date</th>\n",
       "    </tr>\n",
       "  </thead>\n",
       "  <tbody>\n",
       "    <tr>\n",
       "      <th>0</th>\n",
       "      <td>Geraldton</td>\n",
       "      <td>-28.77</td>\n",
       "      <td>114.60</td>\n",
       "      <td>68.00</td>\n",
       "      <td>45</td>\n",
       "      <td>75</td>\n",
       "      <td>18.34</td>\n",
       "      <td>AU</td>\n",
       "      <td>1588751668</td>\n",
       "    </tr>\n",
       "    <tr>\n",
       "      <th>1</th>\n",
       "      <td>Halifax</td>\n",
       "      <td>44.65</td>\n",
       "      <td>-63.57</td>\n",
       "      <td>37.00</td>\n",
       "      <td>73</td>\n",
       "      <td>95</td>\n",
       "      <td>3.00</td>\n",
       "      <td>CA</td>\n",
       "      <td>1588751386</td>\n",
       "    </tr>\n",
       "    <tr>\n",
       "      <th>2</th>\n",
       "      <td>Torbay</td>\n",
       "      <td>47.67</td>\n",
       "      <td>-52.73</td>\n",
       "      <td>35.01</td>\n",
       "      <td>92</td>\n",
       "      <td>90</td>\n",
       "      <td>11.41</td>\n",
       "      <td>CA</td>\n",
       "      <td>1588751668</td>\n",
       "    </tr>\n",
       "    <tr>\n",
       "      <th>3</th>\n",
       "      <td>Nikolskoye</td>\n",
       "      <td>59.70</td>\n",
       "      <td>30.79</td>\n",
       "      <td>61.00</td>\n",
       "      <td>38</td>\n",
       "      <td>23</td>\n",
       "      <td>8.95</td>\n",
       "      <td>RU</td>\n",
       "      <td>1588751541</td>\n",
       "    </tr>\n",
       "    <tr>\n",
       "      <th>4</th>\n",
       "      <td>Busselton</td>\n",
       "      <td>-33.65</td>\n",
       "      <td>115.33</td>\n",
       "      <td>57.99</td>\n",
       "      <td>56</td>\n",
       "      <td>86</td>\n",
       "      <td>17.65</td>\n",
       "      <td>AU</td>\n",
       "      <td>1588751669</td>\n",
       "    </tr>\n",
       "  </tbody>\n",
       "</table>\n",
       "</div>"
      ],
      "text/plain": [
       "         City  Latitude  Longitude  Max Temp  Humidity  Cloudiness  \\\n",
       "0   Geraldton    -28.77     114.60     68.00        45          75   \n",
       "1     Halifax     44.65     -63.57     37.00        73          95   \n",
       "2      Torbay     47.67     -52.73     35.01        92          90   \n",
       "3  Nikolskoye     59.70      30.79     61.00        38          23   \n",
       "4   Busselton    -33.65     115.33     57.99        56          86   \n",
       "\n",
       "   Wind Speed Country        Date  \n",
       "0       18.34      AU  1588751668  \n",
       "1        3.00      CA  1588751386  \n",
       "2       11.41      CA  1588751668  \n",
       "3        8.95      RU  1588751541  \n",
       "4       17.65      AU  1588751669  "
      ]
     },
     "execution_count": 6,
     "metadata": {},
     "output_type": "execute_result"
    }
   ],
   "source": [
    "weather_df=pd.DataFrame({\n",
    "    \"City\":City_Name,\n",
    "    \"Latitude\":Lat, \n",
    "    \"Longitude\":Lng,\n",
    "    \"Max Temp\":Temp,\n",
    "    \"Humidity\":Humid,\n",
    "    \"Cloudiness\":Cloud,\n",
    "    \"Wind Speed\":Wind_Speed,\n",
    "    \"Country\":Country, \n",
    "    \"Date\":Date\n",
    "})\n",
    "\n",
    "weather_df.head()"
   ]
  },
  {
   "cell_type": "code",
   "execution_count": 8,
   "metadata": {},
   "outputs": [],
   "source": [
    "weather_df.to_csv(\"output_data/weather_data.csv\", index=False)"
   ]
  },
  {
   "cell_type": "markdown",
   "metadata": {},
   "source": [
    "## Inspect the data and remove the cities where the humidity > 100%.\n",
    "----\n",
    "Skip this step if there are no cities that have humidity > 100%. "
   ]
  },
  {
   "cell_type": "code",
   "execution_count": 67,
   "metadata": {},
   "outputs": [
    {
     "data": {
      "text/html": [
       "<div>\n",
       "<style scoped>\n",
       "    .dataframe tbody tr th:only-of-type {\n",
       "        vertical-align: middle;\n",
       "    }\n",
       "\n",
       "    .dataframe tbody tr th {\n",
       "        vertical-align: top;\n",
       "    }\n",
       "\n",
       "    .dataframe thead th {\n",
       "        text-align: right;\n",
       "    }\n",
       "</style>\n",
       "<table border=\"1\" class=\"dataframe\">\n",
       "  <thead>\n",
       "    <tr style=\"text-align: right;\">\n",
       "      <th></th>\n",
       "      <th>Latitude</th>\n",
       "      <th>Longitude</th>\n",
       "      <th>Max Temp</th>\n",
       "      <th>Humidity</th>\n",
       "      <th>Cloudiness</th>\n",
       "      <th>Wind Speed</th>\n",
       "      <th>Date</th>\n",
       "    </tr>\n",
       "  </thead>\n",
       "  <tbody>\n",
       "    <tr>\n",
       "      <th>count</th>\n",
       "      <td>589.000000</td>\n",
       "      <td>589.000000</td>\n",
       "      <td>589.000000</td>\n",
       "      <td>589.000000</td>\n",
       "      <td>589.000000</td>\n",
       "      <td>589.000000</td>\n",
       "      <td>5.890000e+02</td>\n",
       "    </tr>\n",
       "    <tr>\n",
       "      <th>mean</th>\n",
       "      <td>22.140221</td>\n",
       "      <td>16.561019</td>\n",
       "      <td>63.902835</td>\n",
       "      <td>66.522920</td>\n",
       "      <td>50.984720</td>\n",
       "      <td>8.554177</td>\n",
       "      <td>1.588752e+09</td>\n",
       "    </tr>\n",
       "    <tr>\n",
       "      <th>std</th>\n",
       "      <td>32.409839</td>\n",
       "      <td>91.040368</td>\n",
       "      <td>20.027545</td>\n",
       "      <td>23.767043</td>\n",
       "      <td>39.872903</td>\n",
       "      <td>5.673674</td>\n",
       "      <td>7.687154e+01</td>\n",
       "    </tr>\n",
       "    <tr>\n",
       "      <th>min</th>\n",
       "      <td>-54.800000</td>\n",
       "      <td>-179.170000</td>\n",
       "      <td>1.400000</td>\n",
       "      <td>6.000000</td>\n",
       "      <td>0.000000</td>\n",
       "      <td>0.160000</td>\n",
       "      <td>1.588751e+09</td>\n",
       "    </tr>\n",
       "    <tr>\n",
       "      <th>0.25</th>\n",
       "      <td>-3.540000</td>\n",
       "      <td>-65.710000</td>\n",
       "      <td>50.000000</td>\n",
       "      <td>52.000000</td>\n",
       "      <td>4.000000</td>\n",
       "      <td>4.540000</td>\n",
       "      <td>1.588752e+09</td>\n",
       "    </tr>\n",
       "    <tr>\n",
       "      <th>0.5</th>\n",
       "      <td>27.180000</td>\n",
       "      <td>20.040000</td>\n",
       "      <td>67.030000</td>\n",
       "      <td>72.000000</td>\n",
       "      <td>47.000000</td>\n",
       "      <td>7.450000</td>\n",
       "      <td>1.588752e+09</td>\n",
       "    </tr>\n",
       "    <tr>\n",
       "      <th>0.75</th>\n",
       "      <td>48.520000</td>\n",
       "      <td>98.490000</td>\n",
       "      <td>78.800000</td>\n",
       "      <td>85.000000</td>\n",
       "      <td>92.000000</td>\n",
       "      <td>11.410000</td>\n",
       "      <td>1.588752e+09</td>\n",
       "    </tr>\n",
       "    <tr>\n",
       "      <th>max</th>\n",
       "      <td>77.480000</td>\n",
       "      <td>179.320000</td>\n",
       "      <td>109.400000</td>\n",
       "      <td>100.000000</td>\n",
       "      <td>100.000000</td>\n",
       "      <td>36.150000</td>\n",
       "      <td>1.588752e+09</td>\n",
       "    </tr>\n",
       "  </tbody>\n",
       "</table>\n",
       "</div>"
      ],
      "text/plain": [
       "         Latitude   Longitude    Max Temp    Humidity  Cloudiness  Wind Speed  \\\n",
       "count  589.000000  589.000000  589.000000  589.000000  589.000000  589.000000   \n",
       "mean    22.140221   16.561019   63.902835   66.522920   50.984720    8.554177   \n",
       "std     32.409839   91.040368   20.027545   23.767043   39.872903    5.673674   \n",
       "min    -54.800000 -179.170000    1.400000    6.000000    0.000000    0.160000   \n",
       "0.25    -3.540000  -65.710000   50.000000   52.000000    4.000000    4.540000   \n",
       "0.5     27.180000   20.040000   67.030000   72.000000   47.000000    7.450000   \n",
       "0.75    48.520000   98.490000   78.800000   85.000000   92.000000   11.410000   \n",
       "max     77.480000  179.320000  109.400000  100.000000  100.000000   36.150000   \n",
       "\n",
       "               Date  \n",
       "count  5.890000e+02  \n",
       "mean   1.588752e+09  \n",
       "std    7.687154e+01  \n",
       "min    1.588751e+09  \n",
       "0.25   1.588752e+09  \n",
       "0.5    1.588752e+09  \n",
       "0.75   1.588752e+09  \n",
       "max    1.588752e+09  "
      ]
     },
     "execution_count": 67,
     "metadata": {},
     "output_type": "execute_result"
    }
   ],
   "source": [
    "mean=weather_df.mean()\n",
    "mn=weather_df.min()\n",
    "mx=weather_df.max()\n",
    "ct=weather_df.count(0)\n",
    "st=weather_df.std()\n",
    "quartiles=weather_df.quantile([.25,.5,.75])\n",
    "\n",
    "st=weather_df.drop(columns=[\"City\", \"Country\"])\n",
    "st_1=st.agg(['count','mean','std','min'])\n",
    "st_2=st.agg(['max'])\n",
    "\n",
    "stat_table=st_1.append(quartiles)\n",
    "stat_table=stat_table.append(st_2)\n",
    "stat_table"
   ]
  },
  {
   "cell_type": "code",
   "execution_count": 11,
   "metadata": {},
   "outputs": [
    {
     "data": {
      "text/html": [
       "<div>\n",
       "<style scoped>\n",
       "    .dataframe tbody tr th:only-of-type {\n",
       "        vertical-align: middle;\n",
       "    }\n",
       "\n",
       "    .dataframe tbody tr th {\n",
       "        vertical-align: top;\n",
       "    }\n",
       "\n",
       "    .dataframe thead th {\n",
       "        text-align: right;\n",
       "    }\n",
       "</style>\n",
       "<table border=\"1\" class=\"dataframe\">\n",
       "  <thead>\n",
       "    <tr style=\"text-align: right;\">\n",
       "      <th></th>\n",
       "      <th>City</th>\n",
       "      <th>Latitude</th>\n",
       "      <th>Longitude</th>\n",
       "      <th>Max Temp</th>\n",
       "      <th>Humidity</th>\n",
       "      <th>Cloudiness</th>\n",
       "      <th>Wind Speed</th>\n",
       "      <th>Country</th>\n",
       "      <th>Date</th>\n",
       "    </tr>\n",
       "  </thead>\n",
       "  <tbody>\n",
       "  </tbody>\n",
       "</table>\n",
       "</div>"
      ],
      "text/plain": [
       "Empty DataFrame\n",
       "Columns: [City, Latitude, Longitude, Max Temp, Humidity, Cloudiness, Wind Speed, Country, Date]\n",
       "Index: []"
      ]
     },
     "execution_count": 11,
     "metadata": {},
     "output_type": "execute_result"
    }
   ],
   "source": [
    "#  Get the indices of cities that have humidity over 100%.\n",
    "bad_humid_df=weather_df.loc[weather_df[\"Humidity\"]>100]\n",
    "bad_humid_df"
   ]
  },
  {
   "cell_type": "code",
   "execution_count": 12,
   "metadata": {},
   "outputs": [],
   "source": [
    "#List of rows to remove by index\n",
    "remove=list(bad_humid_df.index)"
   ]
  },
  {
   "cell_type": "code",
   "execution_count": 13,
   "metadata": {},
   "outputs": [
    {
     "data": {
      "text/html": [
       "<div>\n",
       "<style scoped>\n",
       "    .dataframe tbody tr th:only-of-type {\n",
       "        vertical-align: middle;\n",
       "    }\n",
       "\n",
       "    .dataframe tbody tr th {\n",
       "        vertical-align: top;\n",
       "    }\n",
       "\n",
       "    .dataframe thead th {\n",
       "        text-align: right;\n",
       "    }\n",
       "</style>\n",
       "<table border=\"1\" class=\"dataframe\">\n",
       "  <thead>\n",
       "    <tr style=\"text-align: right;\">\n",
       "      <th></th>\n",
       "      <th>City</th>\n",
       "      <th>Latitude</th>\n",
       "      <th>Longitude</th>\n",
       "      <th>Max Temp</th>\n",
       "      <th>Humidity</th>\n",
       "      <th>Cloudiness</th>\n",
       "      <th>Wind Speed</th>\n",
       "      <th>Country</th>\n",
       "      <th>Date</th>\n",
       "    </tr>\n",
       "  </thead>\n",
       "  <tbody>\n",
       "    <tr>\n",
       "      <th>0</th>\n",
       "      <td>Geraldton</td>\n",
       "      <td>-28.77</td>\n",
       "      <td>114.60</td>\n",
       "      <td>68.00</td>\n",
       "      <td>45</td>\n",
       "      <td>75</td>\n",
       "      <td>18.34</td>\n",
       "      <td>AU</td>\n",
       "      <td>1588751668</td>\n",
       "    </tr>\n",
       "    <tr>\n",
       "      <th>1</th>\n",
       "      <td>Halifax</td>\n",
       "      <td>44.65</td>\n",
       "      <td>-63.57</td>\n",
       "      <td>37.00</td>\n",
       "      <td>73</td>\n",
       "      <td>95</td>\n",
       "      <td>3.00</td>\n",
       "      <td>CA</td>\n",
       "      <td>1588751386</td>\n",
       "    </tr>\n",
       "    <tr>\n",
       "      <th>2</th>\n",
       "      <td>Torbay</td>\n",
       "      <td>47.67</td>\n",
       "      <td>-52.73</td>\n",
       "      <td>35.01</td>\n",
       "      <td>92</td>\n",
       "      <td>90</td>\n",
       "      <td>11.41</td>\n",
       "      <td>CA</td>\n",
       "      <td>1588751668</td>\n",
       "    </tr>\n",
       "    <tr>\n",
       "      <th>3</th>\n",
       "      <td>Nikolskoye</td>\n",
       "      <td>59.70</td>\n",
       "      <td>30.79</td>\n",
       "      <td>61.00</td>\n",
       "      <td>38</td>\n",
       "      <td>23</td>\n",
       "      <td>8.95</td>\n",
       "      <td>RU</td>\n",
       "      <td>1588751541</td>\n",
       "    </tr>\n",
       "    <tr>\n",
       "      <th>4</th>\n",
       "      <td>Busselton</td>\n",
       "      <td>-33.65</td>\n",
       "      <td>115.33</td>\n",
       "      <td>57.99</td>\n",
       "      <td>56</td>\n",
       "      <td>86</td>\n",
       "      <td>17.65</td>\n",
       "      <td>AU</td>\n",
       "      <td>1588751669</td>\n",
       "    </tr>\n",
       "  </tbody>\n",
       "</table>\n",
       "</div>"
      ],
      "text/plain": [
       "         City  Latitude  Longitude  Max Temp  Humidity  Cloudiness  \\\n",
       "0   Geraldton    -28.77     114.60     68.00        45          75   \n",
       "1     Halifax     44.65     -63.57     37.00        73          95   \n",
       "2      Torbay     47.67     -52.73     35.01        92          90   \n",
       "3  Nikolskoye     59.70      30.79     61.00        38          23   \n",
       "4   Busselton    -33.65     115.33     57.99        56          86   \n",
       "\n",
       "   Wind Speed Country        Date  \n",
       "0       18.34      AU  1588751668  \n",
       "1        3.00      CA  1588751386  \n",
       "2       11.41      CA  1588751668  \n",
       "3        8.95      RU  1588751541  \n",
       "4       17.65      AU  1588751669  "
      ]
     },
     "execution_count": 13,
     "metadata": {},
     "output_type": "execute_result"
    }
   ],
   "source": [
    "# Make a new DataFrame equal to the city data to drop all humidity outliers by index.\n",
    "# Passing \"inplace=False\" will make a copy of the city_data DataFrame, which we call \"clean_city_data\".\n",
    "clean_city_data=weather_df.drop(remove,inplace=False)\n",
    "clean_city_data.head()"
   ]
  },
  {
   "cell_type": "code",
   "execution_count": 14,
   "metadata": {},
   "outputs": [],
   "source": [
    "# Extract relevant fields from the data frame\n",
    "\n",
    "\n",
    "# Export the City_Data into a csv\n",
    "clean_city_data.to_csv(\"output_data/City_Data.csv\", index=False)"
   ]
  },
  {
   "cell_type": "markdown",
   "metadata": {},
   "source": [
    "## Plotting the Data\n",
    "* Use proper labeling of the plots using plot titles (including date of analysis) and axes labels.\n",
    "* Save the plotted figures as .pngs."
   ]
  },
  {
   "cell_type": "markdown",
   "metadata": {},
   "source": [
    "## Latitude vs. Temperature Plot"
   ]
  },
  {
   "cell_type": "code",
   "execution_count": 68,
   "metadata": {
    "scrolled": true
   },
   "outputs": [
    {
     "data": {
      "image/png": "[encoded data removed]",
      "text/plain": [
       "<Figure size 432x288 with 1 Axes>"
      ]
     },
     "metadata": {
      "needs_background": "light"
     },
     "output_type": "display_data"
    },
    {
     "name": "stdout",
     "output_type": "stream",
     "text": [
      "This plot is analyzing the max temperature of all cities on their latitude\n"
     ]
    },
    {
     "data": {
      "text/plain": [
       "<Figure size 432x288 with 0 Axes>"
      ]
     },
     "metadata": {},
     "output_type": "display_data"
    }
   ],
   "source": [
    "# Build scatter plot for latitude vs. temperature\n",
    "\n",
    "latplot=clean_city_data[\"Latitude\"]\n",
    "tempplot=clean_city_data[\"Max Temp\"]\n",
    "\n",
    "plt.scatter(latplot,tempplot)\n",
    "plt.title('City Latitude vs. Max Temperature')\n",
    "plt.xlabel('Latitude')\n",
    "plt.ylabel('Max Temperature (F)')\n",
    "plt.grid()\n",
    "plt.show()\n",
    "\n",
    "plt.savefig(\"output_data/Temp_Plot.PNG\")\n",
    "print(\"This plot is analyzing the max temperature of all cities on their latitude\")"
   ]
  },
  {
   "cell_type": "markdown",
   "metadata": {},
   "source": [
    "## Latitude vs. Humidity Plot"
   ]
  },
  {
   "cell_type": "code",
   "execution_count": null,
   "metadata": {},
   "outputs": [],
   "source": []
  },
  {
   "cell_type": "code",
   "execution_count": 69,
   "metadata": {},
   "outputs": [
    {
     "data": {
      "image/png": "[encoded data removed]",
      "text/plain": [
       "<Figure size 432x288 with 1 Axes>"
      ]
     },
     "metadata": {
      "needs_background": "light"
     },
     "output_type": "display_data"
    },
    {
     "name": "stdout",
     "output_type": "stream",
     "text": [
      "This plot is analyzing the humidity percentage of all cities on their latitude\n"
     ]
    },
    {
     "data": {
      "text/plain": [
       "<Figure size 432x288 with 0 Axes>"
      ]
     },
     "metadata": {},
     "output_type": "display_data"
    }
   ],
   "source": [
    "# Build scatter plot for latitude vs. humidity\n",
    "\n",
    "humidplot=clean_city_data[\"Humidity\"]\n",
    "\n",
    "plt.scatter(humidplot,latplot)\n",
    "\n",
    "plt.title('City Latitude vs. Humidity')\n",
    "plt.xlabel('Latitude')\n",
    "plt.ylabel('Humidity (%)')\n",
    "plt.grid()\n",
    "plt.show()\n",
    "\n",
    "plt.savefig(\"output_data/Humidity_Plot.PNG\")\n",
    "print(\"This plot is analyzing the humidity percentage of all cities on their latitude\")"
   ]
  },
  {
   "cell_type": "markdown",
   "metadata": {},
   "source": [
    "## Latitude vs. Cloudiness Plot"
   ]
  },
  {
   "cell_type": "code",
   "execution_count": 70,
   "metadata": {},
   "outputs": [
    {
     "data": {
      "image/png": "[encoded data removed]",
      "text/plain": [
       "<Figure size 432x288 with 1 Axes>"
      ]
     },
     "metadata": {
      "needs_background": "light"
     },
     "output_type": "display_data"
    },
    {
     "name": "stdout",
     "output_type": "stream",
     "text": [
      "This plot is analyzing the cloudiness percentage of all cities on their latitude\n"
     ]
    },
    {
     "data": {
      "text/plain": [
       "<Figure size 432x288 with 0 Axes>"
      ]
     },
     "metadata": {},
     "output_type": "display_data"
    }
   ],
   "source": [
    "# Build scatter plot for latitude vs. cloudiness\n",
    "\n",
    "cloudplot=clean_city_data[\"Cloudiness\"]\n",
    "\n",
    "plt.scatter(cloudplot,latplot)\n",
    "\n",
    "plt.title('City Latitude vs. Cloudiness')\n",
    "plt.xlabel('Latitude')\n",
    "plt.ylabel('Cloudiness (%)')\n",
    "plt.grid()\n",
    "plt.show()\n",
    "\n",
    "plt.savefig(\"output_data/Cloudiness_Plot.PNG\")\n",
    "print(\"This plot is analyzing the cloudiness percentage of all cities on their latitude\")"
   ]
  },
  {
   "cell_type": "markdown",
   "metadata": {},
   "source": [
    "## Latitude vs. Wind Speed Plot"
   ]
  },
  {
   "cell_type": "code",
   "execution_count": 71,
   "metadata": {},
   "outputs": [
    {
     "data": {
      "image/png": "[encoded data removed]",
      "text/plain": [
       "<Figure size 432x288 with 1 Axes>"
      ]
     },
     "metadata": {
      "needs_background": "light"
     },
     "output_type": "display_data"
    },
    {
     "name": "stdout",
     "output_type": "stream",
     "text": [
      "This plot is analyzing the wind speed (mph) of all cities on their latitude\n"
     ]
    },
    {
     "data": {
      "text/plain": [
       "<Figure size 432x288 with 0 Axes>"
      ]
     },
     "metadata": {},
     "output_type": "display_data"
    }
   ],
   "source": [
    "# Build scatter plot for latitude vs. wind speed\n",
    "\n",
    "windplot=clean_city_data[\"Wind Speed\"]\n",
    "\n",
    "plt.scatter(latplot,windplot)\n",
    "\n",
    "plt.title('City Latitude vs. Wind Speed')\n",
    "plt.xlabel('Latitude')\n",
    "plt.ylabel('Wind Speed (mph)')\n",
    "plt.grid()\n",
    "plt.show()\n",
    "\n",
    "plt.savefig(\"output_data/Wind_Speed_Plot.PNG\")\n",
    "print(\"This plot is analyzing the wind speed (mph) of all cities on their latitude\")"
   ]
  },
  {
   "cell_type": "markdown",
   "metadata": {},
   "source": [
    "## Linear Regression"
   ]
  },
  {
   "cell_type": "code",
   "execution_count": 30,
   "metadata": {},
   "outputs": [],
   "source": [
    "# OPTIONAL: Create a function to create Linear Regression plots\n",
    "def plot_linear_regression(x_values, y_values, y_label, eq_loc):\n",
    "    (slope, intercept, rvalue, pvalue, stderr) = linregress(x_values, y_values)\n",
    "    regress_values = x_values * slope + intercept\n",
    "    line_eq = \"y = \" + str(round(slope,2)) + \"x + \" + str(round(intercept,2))\n",
    "    plt.scatter(x_values, y_values)\n",
    "    plt.plot(x_values,regress_values,\"r-\")\n",
    "    plt.annotate(line_eq,eq_loc,fontsize=15,color=\"red\")\n",
    "    plt.title(f\"Latitude vs. {y_label}\")\n",
    "    plt.xlabel(\"Latitude\")\n",
    "    plt.ylabel(y_label)\n",
    "\n",
    "    print(f\"The correlation between latitude and {y_label} is: {rvalue}\")\n",
    "\n",
    "    plt.show()"
   ]
  },
  {
   "cell_type": "code",
   "execution_count": 21,
   "metadata": {},
   "outputs": [
    {
     "data": {
      "text/html": [
       "<div>\n",
       "<style scoped>\n",
       "    .dataframe tbody tr th:only-of-type {\n",
       "        vertical-align: middle;\n",
       "    }\n",
       "\n",
       "    .dataframe tbody tr th {\n",
       "        vertical-align: top;\n",
       "    }\n",
       "\n",
       "    .dataframe thead th {\n",
       "        text-align: right;\n",
       "    }\n",
       "</style>\n",
       "<table border=\"1\" class=\"dataframe\">\n",
       "  <thead>\n",
       "    <tr style=\"text-align: right;\">\n",
       "      <th></th>\n",
       "      <th>City</th>\n",
       "      <th>Latitude</th>\n",
       "      <th>Longitude</th>\n",
       "      <th>Max Temp</th>\n",
       "      <th>Humidity</th>\n",
       "      <th>Cloudiness</th>\n",
       "      <th>Wind Speed</th>\n",
       "      <th>Country</th>\n",
       "      <th>Date</th>\n",
       "    </tr>\n",
       "  </thead>\n",
       "  <tbody>\n",
       "    <tr>\n",
       "      <th>1</th>\n",
       "      <td>Halifax</td>\n",
       "      <td>44.65</td>\n",
       "      <td>-63.57</td>\n",
       "      <td>37.00</td>\n",
       "      <td>73</td>\n",
       "      <td>95</td>\n",
       "      <td>3.00</td>\n",
       "      <td>CA</td>\n",
       "      <td>1588751386</td>\n",
       "    </tr>\n",
       "    <tr>\n",
       "      <th>2</th>\n",
       "      <td>Torbay</td>\n",
       "      <td>47.67</td>\n",
       "      <td>-52.73</td>\n",
       "      <td>35.01</td>\n",
       "      <td>92</td>\n",
       "      <td>90</td>\n",
       "      <td>11.41</td>\n",
       "      <td>CA</td>\n",
       "      <td>1588751668</td>\n",
       "    </tr>\n",
       "    <tr>\n",
       "      <th>3</th>\n",
       "      <td>Nikolskoye</td>\n",
       "      <td>59.70</td>\n",
       "      <td>30.79</td>\n",
       "      <td>61.00</td>\n",
       "      <td>38</td>\n",
       "      <td>23</td>\n",
       "      <td>8.95</td>\n",
       "      <td>RU</td>\n",
       "      <td>1588751541</td>\n",
       "    </tr>\n",
       "    <tr>\n",
       "      <th>5</th>\n",
       "      <td>Barrow</td>\n",
       "      <td>71.29</td>\n",
       "      <td>-156.79</td>\n",
       "      <td>12.20</td>\n",
       "      <td>85</td>\n",
       "      <td>1</td>\n",
       "      <td>11.41</td>\n",
       "      <td>US</td>\n",
       "      <td>1588751669</td>\n",
       "    </tr>\n",
       "    <tr>\n",
       "      <th>7</th>\n",
       "      <td>Papillion</td>\n",
       "      <td>41.15</td>\n",
       "      <td>-96.04</td>\n",
       "      <td>45.00</td>\n",
       "      <td>87</td>\n",
       "      <td>40</td>\n",
       "      <td>5.97</td>\n",
       "      <td>US</td>\n",
       "      <td>1588751669</td>\n",
       "    </tr>\n",
       "    <tr>\n",
       "      <th>...</th>\n",
       "      <td>...</td>\n",
       "      <td>...</td>\n",
       "      <td>...</td>\n",
       "      <td>...</td>\n",
       "      <td>...</td>\n",
       "      <td>...</td>\n",
       "      <td>...</td>\n",
       "      <td>...</td>\n",
       "      <td>...</td>\n",
       "    </tr>\n",
       "    <tr>\n",
       "      <th>584</th>\n",
       "      <td>Safi</td>\n",
       "      <td>32.30</td>\n",
       "      <td>-9.24</td>\n",
       "      <td>64.92</td>\n",
       "      <td>73</td>\n",
       "      <td>100</td>\n",
       "      <td>18.84</td>\n",
       "      <td>MA</td>\n",
       "      <td>1588751653</td>\n",
       "    </tr>\n",
       "    <tr>\n",
       "      <th>585</th>\n",
       "      <td>Santa Cruz</td>\n",
       "      <td>30.42</td>\n",
       "      <td>-9.60</td>\n",
       "      <td>62.60</td>\n",
       "      <td>93</td>\n",
       "      <td>90</td>\n",
       "      <td>3.36</td>\n",
       "      <td>MA</td>\n",
       "      <td>1588751810</td>\n",
       "    </tr>\n",
       "    <tr>\n",
       "      <th>586</th>\n",
       "      <td>Parrita</td>\n",
       "      <td>9.52</td>\n",
       "      <td>-84.32</td>\n",
       "      <td>73.40</td>\n",
       "      <td>69</td>\n",
       "      <td>100</td>\n",
       "      <td>10.29</td>\n",
       "      <td>CR</td>\n",
       "      <td>1588751810</td>\n",
       "    </tr>\n",
       "    <tr>\n",
       "      <th>587</th>\n",
       "      <td>Santa Rosa</td>\n",
       "      <td>14.31</td>\n",
       "      <td>121.11</td>\n",
       "      <td>98.01</td>\n",
       "      <td>50</td>\n",
       "      <td>40</td>\n",
       "      <td>11.41</td>\n",
       "      <td>PH</td>\n",
       "      <td>1588751810</td>\n",
       "    </tr>\n",
       "    <tr>\n",
       "      <th>588</th>\n",
       "      <td>Bracebridge</td>\n",
       "      <td>45.03</td>\n",
       "      <td>-79.32</td>\n",
       "      <td>36.00</td>\n",
       "      <td>74</td>\n",
       "      <td>1</td>\n",
       "      <td>2.24</td>\n",
       "      <td>CA</td>\n",
       "      <td>1588751810</td>\n",
       "    </tr>\n",
       "  </tbody>\n",
       "</table>\n",
       "<p>423 rows × 9 columns</p>\n",
       "</div>"
      ],
      "text/plain": [
       "            City  Latitude  Longitude  Max Temp  Humidity  Cloudiness  \\\n",
       "1        Halifax     44.65     -63.57     37.00        73          95   \n",
       "2         Torbay     47.67     -52.73     35.01        92          90   \n",
       "3     Nikolskoye     59.70      30.79     61.00        38          23   \n",
       "5         Barrow     71.29    -156.79     12.20        85           1   \n",
       "7      Papillion     41.15     -96.04     45.00        87          40   \n",
       "..           ...       ...        ...       ...       ...         ...   \n",
       "584         Safi     32.30      -9.24     64.92        73         100   \n",
       "585   Santa Cruz     30.42      -9.60     62.60        93          90   \n",
       "586      Parrita      9.52     -84.32     73.40        69         100   \n",
       "587   Santa Rosa     14.31     121.11     98.01        50          40   \n",
       "588  Bracebridge     45.03     -79.32     36.00        74           1   \n",
       "\n",
       "     Wind Speed Country        Date  \n",
       "1          3.00      CA  1588751386  \n",
       "2         11.41      CA  1588751668  \n",
       "3          8.95      RU  1588751541  \n",
       "5         11.41      US  1588751669  \n",
       "7          5.97      US  1588751669  \n",
       "..          ...     ...         ...  \n",
       "584       18.84      MA  1588751653  \n",
       "585        3.36      MA  1588751810  \n",
       "586       10.29      CR  1588751810  \n",
       "587       11.41      PH  1588751810  \n",
       "588        2.24      CA  1588751810  \n",
       "\n",
       "[423 rows x 9 columns]"
      ]
     },
     "execution_count": 21,
     "metadata": {},
     "output_type": "execute_result"
    }
   ],
   "source": [
    "# Create Northern and Southern Hemisphere DataFrames\n",
    "North_Hemp=clean_city_data.loc[clean_city_data[\"Latitude\"] >= 0]\n",
    "South_Hemp=clean_city_data.loc[clean_city_data[\"Latitude\"] < 0,:]\n",
    "\n",
    "North_Hemp"
   ]
  },
  {
   "cell_type": "markdown",
   "metadata": {},
   "source": [
    "####  Northern Hemisphere - Max Temp vs. Latitude Linear Regression"
   ]
  },
  {
   "cell_type": "code",
   "execution_count": 72,
   "metadata": {},
   "outputs": [
    {
     "name": "stdout",
     "output_type": "stream",
     "text": [
      "The correlation between latitude and Max Temp is: -0.8314059287089265\n"
     ]
    },
    {
     "data": {
      "image/png": "[encoded data removed]",
      "text/plain": [
       "<Figure size 432x288 with 1 Axes>"
      ]
     },
     "metadata": {
      "needs_background": "light"
     },
     "output_type": "display_data"
    },
    {
     "name": "stdout",
     "output_type": "stream",
     "text": [
      "r value of -0.83 indicates a strong negative correlation between latitude and max temperature in Northern Hemisphere. As latitude increases, max temperature decrases\n"
     ]
    },
    {
     "data": {
      "text/plain": [
       "<Figure size 432x288 with 0 Axes>"
      ]
     },
     "metadata": {},
     "output_type": "display_data"
    }
   ],
   "source": [
    "x_values = North_Hemp[\"Latitude\"]\n",
    "y_values = North_Hemp[\"Max Temp\"]\n",
    "plot_linear_regression(x_values,y_values,'Max Temp',(6,15))\n",
    "\n",
    "plt.savefig(\"output_data/North_Hemisphere_Temp_Plot.PNG\")\n",
    "print(\"r value of -0.83 indicates a strong negative correlation between latitude and max temperature in Northern Hemisphere. As latitude increases, max temperature decrases\")"
   ]
  },
  {
   "cell_type": "markdown",
   "metadata": {},
   "source": [
    "####  Southern Hemisphere - Max Temp vs. Latitude Linear Regression"
   ]
  },
  {
   "cell_type": "code",
   "execution_count": 76,
   "metadata": {},
   "outputs": [
    {
     "name": "stdout",
     "output_type": "stream",
     "text": [
      "The correlation between latitude and Max Temp is: 0.7585074719604172\n"
     ]
    },
    {
     "data": {
      "image/png": "[encoded data removed]",
      "text/plain": [
       "<Figure size 432x288 with 1 Axes>"
      ]
     },
     "metadata": {
      "needs_background": "light"
     },
     "output_type": "display_data"
    },
    {
     "name": "stdout",
     "output_type": "stream",
     "text": [
      "r value of 0.759 indicates a strong positive correlation between latitude and max temperature in Southern Hemisphere.\n",
      "As latitude increases, max temperature increases\n"
     ]
    },
    {
     "data": {
      "text/plain": [
       "<Figure size 432x288 with 0 Axes>"
      ]
     },
     "metadata": {},
     "output_type": "display_data"
    }
   ],
   "source": [
    "x_values = South_Hemp[\"Latitude\"]\n",
    "y_values = South_Hemp[\"Max Temp\"]\n",
    "plot_linear_regression(x_values,y_values,'Max Temp',(-25,50))\n",
    "\n",
    "plt.savefig(\"output_data/South_Hemisphere_Temp_Plot.PNG\")\n",
    "print(\"r value of 0.759 indicates a strong positive correlation between latitude and max temperature in Southern Hemisphere.\") \n",
    "print(\"As latitude increases, max temperature increases\")"
   ]
  },
  {
   "cell_type": "markdown",
   "metadata": {},
   "source": [
    "####  Northern Hemisphere - Humidity (%) vs. Latitude Linear Regression"
   ]
  },
  {
   "cell_type": "code",
   "execution_count": 73,
   "metadata": {},
   "outputs": [
    {
     "name": "stdout",
     "output_type": "stream",
     "text": [
      "The correlation between latitude and Humidity (%) is: 0.2138488861142147\n"
     ]
    },
    {
     "data": {
      "image/png": "[encoded data removed]",
      "text/plain": [
       "<Figure size 432x288 with 1 Axes>"
      ]
     },
     "metadata": {
      "needs_background": "light"
     },
     "output_type": "display_data"
    },
    {
     "name": "stdout",
     "output_type": "stream",
     "text": [
      "r value of 0.214 indicates very weak to no correlation between latitude and humidity in Northern Hemisphere.\n"
     ]
    },
    {
     "data": {
      "text/plain": [
       "<Figure size 432x288 with 0 Axes>"
      ]
     },
     "metadata": {},
     "output_type": "display_data"
    }
   ],
   "source": [
    "x_values = North_Hemp[\"Latitude\"]\n",
    "y_values = North_Hemp[\"Humidity\"]\n",
    "plot_linear_regression(x_values,y_values,'Humidity (%)',(70,60))\n",
    "\n",
    "plt.savefig(\"output_data/North_Hemisphere_Humidity_Plot.PNG\")\n",
    "print(\"r value of 0.214 indicates very weak to no correlation between latitude and humidity in Northern Hemisphere.\")"
   ]
  },
  {
   "cell_type": "markdown",
   "metadata": {},
   "source": [
    "####  Southern Hemisphere - Humidity (%) vs. Latitude Linear Regression"
   ]
  },
  {
   "cell_type": "code",
   "execution_count": 77,
   "metadata": {},
   "outputs": [
    {
     "name": "stdout",
     "output_type": "stream",
     "text": [
      "The correlation between latitude and Humidity (%) is: 0.29906622288311435\n"
     ]
    },
    {
     "data": {
      "image/png": "[encoded data removed]",
      "text/plain": [
       "<Figure size 432x288 with 1 Axes>"
      ]
     },
     "metadata": {
      "needs_background": "light"
     },
     "output_type": "display_data"
    },
    {
     "name": "stdout",
     "output_type": "stream",
     "text": [
      "r value of 0.299 indicates a weak or no correlation between latitude and humidity in Southern Hemisphere.\n"
     ]
    },
    {
     "data": {
      "text/plain": [
       "<Figure size 432x288 with 0 Axes>"
      ]
     },
     "metadata": {},
     "output_type": "display_data"
    }
   ],
   "source": [
    "x_values = South_Hemp[\"Latitude\"]\n",
    "y_values = South_Hemp[\"Humidity\"]\n",
    "plot_linear_regression(x_values,y_values,'Humidity (%)',(-55,35))\n",
    "\n",
    "plt.savefig(\"output_data/South_Hemisphere_Humid_Plot.PNG\")\n",
    "print(\"r value of 0.299 indicates a weak or no correlation between latitude and humidity in Southern Hemisphere.\") \n"
   ]
  },
  {
   "cell_type": "markdown",
   "metadata": {},
   "source": [
    "####  Northern Hemisphere - Cloudiness (%) vs. Latitude Linear Regression"
   ]
  },
  {
   "cell_type": "code",
   "execution_count": 74,
   "metadata": {},
   "outputs": [
    {
     "name": "stdout",
     "output_type": "stream",
     "text": [
      "The correlation between latitude and Cloudiness (%) is: 0.1224851255838502\n"
     ]
    },
    {
     "data": {
      "image/png": "[encoded data removed]",
      "text/plain": [
       "<Figure size 432x288 with 1 Axes>"
      ]
     },
     "metadata": {
      "needs_background": "light"
     },
     "output_type": "display_data"
    },
    {
     "name": "stdout",
     "output_type": "stream",
     "text": [
      "r value of 0.122 indicates very weak to no correlation between latitude and cloudiness in Northern Hemisphere.\n"
     ]
    },
    {
     "data": {
      "text/plain": [
       "<Figure size 432x288 with 0 Axes>"
      ]
     },
     "metadata": {},
     "output_type": "display_data"
    }
   ],
   "source": [
    "x_values = North_Hemp[\"Latitude\"]\n",
    "y_values = North_Hemp[\"Cloudiness\"]\n",
    "plot_linear_regression(x_values,y_values,'Cloudiness (%)',(40,65))\n",
    "\n",
    "plt.savefig(\"output_data/North_Hemisphere_Cloudiness_Plot.PNG\")\n",
    "print(\"r value of 0.122 indicates very weak to no correlation between latitude and cloudiness in Northern Hemisphere.\")"
   ]
  },
  {
   "cell_type": "markdown",
   "metadata": {},
   "source": [
    "####  Southern Hemisphere - Cloudiness (%) vs. Latitude Linear Regression"
   ]
  },
  {
   "cell_type": "code",
   "execution_count": 78,
   "metadata": {},
   "outputs": [
    {
     "name": "stdout",
     "output_type": "stream",
     "text": [
      "The correlation between latitude and Cloudiness (%) is: 0.16364110700573228\n"
     ]
    },
    {
     "data": {
      "image/png": "[encoded data removed]",
      "text/plain": [
       "<Figure size 432x288 with 1 Axes>"
      ]
     },
     "metadata": {
      "needs_background": "light"
     },
     "output_type": "display_data"
    },
    {
     "name": "stdout",
     "output_type": "stream",
     "text": [
      "r value of 0.164 indicates a weak or no correlation between latitude and cloudiness in Southern Hemisphere.\n"
     ]
    },
    {
     "data": {
      "text/plain": [
       "<Figure size 432x288 with 0 Axes>"
      ]
     },
     "metadata": {},
     "output_type": "display_data"
    }
   ],
   "source": [
    "x_values = South_Hemp[\"Latitude\"]\n",
    "y_values = South_Hemp[\"Cloudiness\"]\n",
    "plot_linear_regression(x_values,y_values,'Cloudiness (%)',(-55,45))\n",
    "\n",
    "plt.savefig(\"output_data/South_Hemisphere_Cloudiness_Plot.PNG\")\n",
    "print(\"r value of 0.164 indicates a weak or no correlation between latitude and cloudiness in Southern Hemisphere.\") "
   ]
  },
  {
   "cell_type": "markdown",
   "metadata": {},
   "source": [
    "####  Northern Hemisphere - Wind Speed (mph) vs. Latitude Linear Regression"
   ]
  },
  {
   "cell_type": "code",
   "execution_count": 75,
   "metadata": {},
   "outputs": [
    {
     "name": "stdout",
     "output_type": "stream",
     "text": [
      "The correlation between latitude and Wind Speed (mph) is: 0.11508511834354442\n"
     ]
    },
    {
     "data": {
      "image/png": "[encoded data removed]",
      "text/plain": [
       "<Figure size 432x288 with 1 Axes>"
      ]
     },
     "metadata": {
      "needs_background": "light"
     },
     "output_type": "display_data"
    },
    {
     "name": "stdout",
     "output_type": "stream",
     "text": [
      "r value of 0.115 indicates very weak to no correlation between latitude and wind speed in Northern Hemisphere.\n"
     ]
    },
    {
     "data": {
      "text/plain": [
       "<Figure size 432x288 with 0 Axes>"
      ]
     },
     "metadata": {},
     "output_type": "display_data"
    }
   ],
   "source": [
    "x_values = North_Hemp[\"Latitude\"]\n",
    "y_values = North_Hemp[\"Wind Speed\"]\n",
    "plot_linear_regression(x_values,y_values,'Wind Speed (mph)',(10,30))\n",
    "\n",
    "plt.savefig(\"output_data/North_Hemisphere_Wind_Speed_Plot.PNG\")\n",
    "print(\"r value of 0.115 indicates very weak to no correlation between latitude and wind speed in Northern Hemisphere.\")"
   ]
  },
  {
   "cell_type": "markdown",
   "metadata": {},
   "source": [
    "####  Southern Hemisphere - Wind Speed (mph) vs. Latitude Linear Regression"
   ]
  },
  {
   "cell_type": "code",
   "execution_count": 79,
   "metadata": {},
   "outputs": [
    {
     "name": "stdout",
     "output_type": "stream",
     "text": [
      "The correlation between latitude and Wind Speed (mph) is: -0.17473677603968057\n"
     ]
    },
    {
     "data": {
      "image/png": "[encoded data removed]",
      "text/plain": [
       "<Figure size 432x288 with 1 Axes>"
      ]
     },
     "metadata": {
      "needs_background": "light"
     },
     "output_type": "display_data"
    },
    {
     "name": "stdout",
     "output_type": "stream",
     "text": [
      "r value of -0.175 indicates a weak or no correlation between latitude and wind speed in Southern Hemisphere.\n"
     ]
    },
    {
     "data": {
      "text/plain": [
       "<Figure size 432x288 with 0 Axes>"
      ]
     },
     "metadata": {},
     "output_type": "display_data"
    }
   ],
   "source": [
    "x_values = South_Hemp[\"Latitude\"]\n",
    "y_values = South_Hemp[\"Wind Speed\"]\n",
    "plot_linear_regression(x_values,y_values,'Wind Speed (mph)',(-55,15))\n",
    "\n",
    "plt.savefig(\"output_data/South_Hemisphere_Wind_Speed_Plot.PNG\")\n",
    "print(\"r value of -0.175 indicates a weak or no correlation between latitude and wind speed in Southern Hemisphere.\") "
   ]
  },
  {
   "cell_type": "code",
   "execution_count": null,
   "metadata": {},
   "outputs": [],
   "source": []
  }
 ],
 "metadata": {
  "anaconda-cloud": {},
  "kernel_info": {
   "name": "python3"
  },
  "kernelspec": {
   "display_name": "Python 3",
   "language": "python",
   "name": "python3"
  },
  "language_info": {
   "codemirror_mode": {
    "name": "ipython",
    "version": 3
   },
   "file_extension": ".py",
   "mimetype": "text/x-python",
   "name": "python",
   "nbconvert_exporter": "python",
   "pygments_lexer": "ipython3",
   "version": "3.7.7"
  },
  "latex_envs": {
   "LaTeX_envs_menu_present": true,
   "autoclose": false,
   "autocomplete": true,
   "bibliofile": "biblio.bib",
   "cite_by": "apalike",
   "current_citInitial": 1,
   "eqLabelWithNumbers": true,
   "eqNumInitial": 1,
   "hotkeys": {
    "equation": "Ctrl-E",
    "itemize": "Ctrl-I"
   },
   "labels_anchors": false,
   "latex_user_defs": false,
   "report_style_numbering": false,
   "user_envs_cfg": false
  },
  "nteract": {
   "version": "0.12.3"
  }
 },
 "nbformat": 4,
 "nbformat_minor": 4
}
