{
 "cells": [
  {
   "cell_type": "markdown",
   "metadata": {},
   "source": [
    "# WeatherPy\n",
    "----\n"
   ]
  },
  {
   "cell_type": "markdown",
   "metadata": {},
   "source": [
    "* Observations are explained below the plots\n",
    "\n"
   ]
  },
  {
   "cell_type": "code",
   "execution_count": 1,
   "metadata": {
    "scrolled": true
   },
   "outputs": [],
   "source": [
    "# Dependencies and Setup\n",
    "import matplotlib.pyplot as plt\n",
    "import pandas as pd\n",
    "import numpy as np\n",
    "import requests\n",
    "import time\n",
    "from scipy.stats import linregress\n",
    "from pprint import pprint\n",
    "\n",
    "# Import API key\n",
    "from config import api_key\n",
    "\n",
    "# Incorporated citipy to determine city based on latitude and longitude\n",
    "from citipy import citipy\n",
    "\n",
    "# Output File (CSV)\n",
    "output_data_file = \"output_data/cities.csv\"\n",
    "\n",
    "# Range of latitudes and longitudes\n",
    "lat_range = (-90, 90)\n",
    "lng_range = (-180, 180)"
   ]
  },
  {
   "cell_type": "markdown",
   "metadata": {},
   "source": [
    "## Generate Cities List"
   ]
  },
  {
   "cell_type": "code",
   "execution_count": 2,
   "metadata": {},
   "outputs": [
    {
     "data": {
      "text/plain": [
       "613"
      ]
     },
     "execution_count": 2,
     "metadata": {},
     "output_type": "execute_result"
    }
   ],
   "source": [
    "## List for holding lat_lngs and cities\n",
    "lat_lngs = []\n",
    "cities = []\n",
    "\n",
    "# Create a set of random lat and lng combinations\n",
    "lats = np.random.uniform(lat_range[0], lat_range[1], size=1500)\n",
    "lngs = np.random.uniform(lng_range[0], lng_range[1], size=1500)\n",
    "lat_lngs = zip(lats, lngs)\n",
    "\n",
    "# Identify nearest city for each lat, lng combination\n",
    "for lat_lng in lat_lngs:\n",
    "    city = citipy.nearest_city(lat_lng[0], lat_lng[1]).city_name\n",
    "    \n",
    "    # If the city is unique, then add it to a our cities list\n",
    "    if city not in cities:\n",
    "        cities.append(city)\n",
    "\n",
    "# Print the city count to confirm sufficient count\n",
    "len(cities)"
   ]
  },
  {
   "cell_type": "markdown",
   "metadata": {},
   "source": [
    "## Perform API Calls\n",
    "* Perform a weather check on each city using a series of successive API calls.\n",
    "* Include a print log of each city as it'sbeing processed (with the city number and city name).\n"
   ]
  },
  {
   "cell_type": "code",
   "execution_count": 3,
   "metadata": {},
   "outputs": [],
   "source": [
    "url=\"http://api.openweathermap.org/data/2.5/weather?\"\n",
    "key=f\"appid={api_key}\"\n"
   ]
  },
  {
   "cell_type": "code",
   "execution_count": null,
   "metadata": {},
   "outputs": [],
   "source": [
    "# city=\"Los Angeles\"\n",
    "\n",
    "# full_url=f\"{url}q={city}&{key}&units=metric\"\n",
    "\n",
    "# response = requests.get(full_url)\n",
    "# data = response.json()\n",
    "# pprint(data)\n",
    "\n",
    "\n",
    "# City_Name=data[\"name\"]\n",
    "# Country=data[\"sys\"][\"country\"]\n",
    "# Date=data[\"dt\"]\n",
    "# Lat=data[\"coord\"][\"lat\"]\n",
    "# Lng=data[\"coord\"][\"lon\"]\n",
    "# Temp=data[\"main\"][\"temp_max\"]\n",
    "# Humid=data[\"main\"][\"humidity\"]\n",
    "# Cloud=data[\"clouds\"][\"all\"]\n",
    "# Wind_Speed=data[\"wind\"][\"speed\"]"
   ]
  },
  {
   "cell_type": "code",
   "execution_count": 4,
   "metadata": {},
   "outputs": [
    {
     "name": "stdout",
     "output_type": "stream",
     "text": [
      "Beginning Data Retrieval\n",
      "-----------------------------\n",
      "Processing record 1 of Set 1 | namibe\n",
      "Processing record 2 of Set 1 | hermanus\n",
      "Processing record 3 of Set 1 | punta arenas\n",
      "Processing record 4 of Set 1 | bethel\n",
      "Processing record 5 of Set 1 | bagotville\n",
      "Processing record 6 of Set 1 | atuona\n",
      "Processing record 7 of Set 1 | mar del plata\n",
      "Processing record 8 of Set 1 | bambous virieux\n",
      "Processing record 9 of Set 1 | vaini\n",
      "Processing record 10 of Set 1 | thompson\n",
      "Processing record 11 of Set 1 | ayan\n",
      "Processing record 12 of Set 1 | hobart\n",
      "City not found. Skipping...\n",
      "Processing record 13 of Set 1 | dikson\n",
      "Processing record 14 of Set 1 | nikolskoye\n",
      "Processing record 15 of Set 1 | korla\n",
      "Processing record 16 of Set 1 | carnarvon\n",
      "Processing record 17 of Set 1 | prainha\n",
      "City not found. Skipping...\n",
      "Processing record 18 of Set 1 | katsuura\n",
      "Processing record 19 of Set 1 | ilulissat\n",
      "Processing record 20 of Set 1 | rikitea\n",
      "Processing record 21 of Set 1 | ginda\n",
      "Processing record 22 of Set 1 | marang\n",
      "Processing record 23 of Set 1 | arraial do cabo\n",
      "Processing record 24 of Set 1 | busselton\n",
      "Processing record 25 of Set 1 | ushuaia\n",
      "Processing record 26 of Set 1 | barra do corda\n",
      "Processing record 27 of Set 1 | puerto ayora\n",
      "Processing record 28 of Set 1 | pevek\n",
      "Processing record 29 of Set 1 | honiara\n",
      "Processing record 30 of Set 1 | zaysan\n",
      "Processing record 31 of Set 1 | ikungi\n",
      "Processing record 32 of Set 1 | saint-pierre\n",
      "City not found. Skipping...\n",
      "Processing record 33 of Set 1 | melito di porto salvo\n",
      "Processing record 34 of Set 1 | yellowknife\n",
      "City not found. Skipping...\n",
      "Processing record 35 of Set 1 | orsha\n",
      "Processing record 36 of Set 1 | mastic beach\n",
      "Processing record 37 of Set 1 | hasaki\n",
      "Processing record 38 of Set 1 | nhulunbuy\n",
      "Processing record 39 of Set 1 | tasiilaq\n",
      "Processing record 40 of Set 1 | avarua\n",
      "Processing record 41 of Set 1 | albany\n",
      "City not found. Skipping...\n",
      "Processing record 42 of Set 1 | san patricio\n",
      "Processing record 43 of Set 1 | georgetown\n",
      "Processing record 44 of Set 1 | paamiut\n",
      "Processing record 45 of Set 1 | cape town\n",
      "Processing record 46 of Set 1 | isangel\n",
      "Processing record 47 of Set 1 | butaritari\n",
      "Processing record 48 of Set 1 | trebinje\n",
      "Processing record 49 of Set 1 | north bend\n",
      "City not found. Skipping...\n",
      "Processing record 50 of Set 1 | badou\n",
      "Processing record 51 of Set 1 | kapaa\n",
      "Processing record 52 of Set 1 | glendive\n",
      "Processing record 53 of Set 1 | wageningen\n",
      "Processing record 54 of Set 1 | norman wells\n",
      "City not found. Skipping...\n",
      "Processing record 55 of Set 1 | marystown\n",
      "Processing record 56 of Set 1 | port hedland\n",
      "Processing record 57 of Set 1 | sur\n",
      "Processing record 58 of Set 1 | pisco\n",
      "City not found. Skipping...\n",
      "Processing record 59 of Set 1 | bluff\n",
      "Processing record 60 of Set 1 | port elizabeth\n",
      "Processing record 61 of Set 1 | nantucket\n",
      "Processing record 62 of Set 1 | sao jose da coroa grande\n",
      "Processing record 63 of Set 1 | port alfred\n",
      "Processing record 64 of Set 1 | warah\n",
      "Processing record 65 of Set 1 | phan thiet\n",
      "Processing record 66 of Set 1 | mataura\n",
      "Processing record 67 of Set 1 | manta\n",
      "Processing record 68 of Set 1 | opuwo\n",
      "Processing record 69 of Set 1 | grafton\n",
      "Processing record 70 of Set 1 | namatanai\n",
      "City not found. Skipping...\n",
      "Processing record 71 of Set 1 | dunmore town\n",
      "Processing record 72 of Set 1 | nome\n",
      "Processing record 73 of Set 1 | dwarka\n",
      "Processing record 74 of Set 1 | lagoa\n",
      "Processing record 75 of Set 1 | ponta do sol\n",
      "Processing record 76 of Set 1 | east london\n",
      "Processing record 77 of Set 1 | san rafael del sur\n",
      "Processing record 78 of Set 1 | joshimath\n",
      "Processing record 79 of Set 1 | henties bay\n",
      "City not found. Skipping...\n",
      "Processing record 80 of Set 1 | yerbogachen\n",
      "Processing record 81 of Set 1 | tuktoyaktuk\n",
      "Processing record 82 of Set 1 | caravelas\n",
      "City not found. Skipping...\n",
      "Processing record 83 of Set 1 | qaanaaq\n",
      "Processing record 84 of Set 1 | saskylakh\n",
      "Processing record 85 of Set 1 | quatre cocos\n",
      "Processing record 86 of Set 1 | belaya gora\n",
      "Processing record 87 of Set 1 | jamestown\n",
      "Processing record 88 of Set 1 | constitucion\n",
      "Processing record 89 of Set 1 | darhan\n",
      "Processing record 90 of Set 1 | hithadhoo\n",
      "Processing record 91 of Set 1 | balkanabat\n",
      "Processing record 92 of Set 1 | castro\n",
      "Processing record 93 of Set 1 | bathsheba\n",
      "Processing record 94 of Set 1 | waingapu\n",
      "Processing record 95 of Set 1 | kargasok\n",
      "Processing record 96 of Set 1 | avera\n",
      "Processing record 97 of Set 1 | chiang klang\n",
      "Processing record 98 of Set 1 | lensk\n",
      "Processing record 99 of Set 1 | dodoma\n",
      "Processing record 100 of Set 1 | qasigiannguit\n",
      "Processing record 101 of Set 1 | yumen\n",
      "Processing record 102 of Set 1 | fond du lac\n",
      "Processing record 103 of Set 1 | asau\n",
      "Processing record 104 of Set 1 | kununurra\n",
      "City not found. Skipping...\n",
      "Processing record 105 of Set 1 | saint-philippe\n",
      "Processing record 106 of Set 1 | kapoeta\n",
      "Processing record 107 of Set 1 | thinadhoo\n",
      "Processing record 108 of Set 1 | loandjili\n",
      "Processing record 109 of Set 1 | kuybyshevo\n",
      "Processing record 110 of Set 1 | iqaluit\n",
      "Processing record 111 of Set 1 | hilo\n",
      "Processing record 112 of Set 1 | ibra\n",
      "Processing record 113 of Set 1 | los llanos de aridane\n",
      "Processing record 114 of Set 1 | faya\n",
      "Processing record 115 of Set 1 | srednekolymsk\n",
      "Processing record 116 of Set 1 | lebu\n",
      "Processing record 117 of Set 1 | vokhma\n",
      "Processing record 118 of Set 1 | nadvoitsy\n",
      "Processing record 119 of Set 1 | tezu\n",
      "City not found. Skipping...\n",
      "Processing record 120 of Set 1 | grand gaube\n",
      "Processing record 121 of Set 1 | puri\n",
      "Processing record 122 of Set 1 | maraa\n",
      "Processing record 123 of Set 1 | kajiado\n",
      "Processing record 124 of Set 1 | san javier\n",
      "City not found. Skipping...\n",
      "Processing record 125 of Set 1 | bengkulu\n",
      "Processing record 126 of Set 1 | touros\n",
      "City not found. Skipping...\n",
      "Processing record 127 of Set 1 | bristol\n",
      "Processing record 128 of Set 1 | coquimbo\n",
      "Processing record 129 of Set 1 | yining\n",
      "Processing record 130 of Set 1 | hyeres\n",
      "Processing record 131 of Set 1 | devrek\n",
      "Processing record 132 of Set 1 | sinnamary\n",
      "Processing record 133 of Set 1 | murray bridge\n",
      "City not found. Skipping...\n",
      "Processing record 134 of Set 1 | lorengau\n",
      "Processing record 135 of Set 1 | lahaina\n",
      "City not found. Skipping...\n",
      "Processing record 136 of Set 1 | leningradskiy\n",
      "City not found. Skipping...\n",
      "Processing record 137 of Set 1 | new norfolk\n",
      "Processing record 138 of Set 1 | guarapari\n",
      "Processing record 139 of Set 1 | xinqing\n",
      "Processing record 140 of Set 1 | rio gallegos\n",
      "Processing record 141 of Set 1 | sampit\n",
      "Processing record 142 of Set 1 | kambove\n",
      "City not found. Skipping...\n",
      "Processing record 143 of Set 1 | kupang\n",
      "Processing record 144 of Set 1 | port hawkesbury\n",
      "Processing record 145 of Set 1 | portland\n",
      "Processing record 146 of Set 1 | kodiak\n",
      "Processing record 147 of Set 1 | cap malheureux\n",
      "Processing record 148 of Set 1 | peruibe\n",
      "Processing record 149 of Set 1 | nacala\n",
      "Processing record 150 of Set 1 | gat\n",
      "Processing record 151 of Set 1 | gorontalo\n",
      "Processing record 152 of Set 1 | kita\n",
      "Processing record 153 of Set 1 | vao\n",
      "Processing record 154 of Set 1 | cockburn town\n",
      "Processing record 155 of Set 1 | mao\n",
      "City not found. Skipping...\n",
      "Processing record 156 of Set 1 | cairns\n",
      "City not found. Skipping...\n",
      "Processing record 157 of Set 1 | bredasdorp\n",
      "Processing record 158 of Set 1 | esperance\n",
      "Processing record 159 of Set 1 | beboto\n",
      "Processing record 160 of Set 1 | lavrentiya\n",
      "Processing record 161 of Set 1 | goderich\n",
      "Processing record 162 of Set 1 | laje\n",
      "Processing record 163 of Set 1 | yelizovo\n",
      "Processing record 164 of Set 1 | mnogovershinnyy\n",
      "Processing record 165 of Set 1 | riyadh\n",
      "Processing record 166 of Set 1 | severo-kurilsk\n",
      "Processing record 167 of Set 1 | khandyga\n",
      "Processing record 168 of Set 1 | bahia blanca\n",
      "Processing record 169 of Set 1 | meulaboh\n",
      "Processing record 170 of Set 1 | tiksi\n",
      "Processing record 171 of Set 1 | cherskiy\n",
      "Processing record 172 of Set 1 | alice springs\n",
      "Processing record 173 of Set 1 | sturgeon bay\n",
      "Processing record 174 of Set 1 | xichang\n",
      "Processing record 175 of Set 1 | khatanga\n",
      "Processing record 176 of Set 1 | alofi\n",
      "Processing record 177 of Set 1 | emerald\n",
      "Processing record 178 of Set 1 | ust-nera\n",
      "Processing record 179 of Set 1 | talnakh\n",
      "Processing record 180 of Set 1 | illapel\n",
      "Processing record 181 of Set 1 | paka\n",
      "Processing record 182 of Set 1 | batsfjord\n",
      "Processing record 183 of Set 1 | salalah\n",
      "Processing record 184 of Set 1 | trairi\n",
      "City not found. Skipping...\n",
      "Processing record 185 of Set 1 | toora-khem\n",
      "Processing record 186 of Set 1 | petropavlovsk-kamchatskiy\n",
      "Processing record 187 of Set 1 | kudahuvadhoo\n",
      "Processing record 188 of Set 1 | tual\n",
      "Processing record 189 of Set 1 | asfi\n",
      "Processing record 190 of Set 1 | roma\n",
      "Processing record 191 of Set 1 | fortuna\n",
      "Processing record 192 of Set 1 | aketi\n",
      "Processing record 193 of Set 1 | ribeira grande\n",
      "Processing record 194 of Set 1 | burnie\n",
      "Processing record 195 of Set 1 | port macquarie\n",
      "Processing record 196 of Set 1 | peterhead\n",
      "Processing record 197 of Set 1 | airai\n",
      "City not found. Skipping...\n",
      "Processing record 198 of Set 1 | monrovia\n",
      "Processing record 199 of Set 1 | hazleton\n",
      "Processing record 200 of Set 1 | narsaq\n",
      "Processing record 201 of Set 1 | saldanha\n",
      "Processing record 202 of Set 1 | cabedelo\n",
      "Processing record 203 of Set 1 | tilichiki\n",
      "Processing record 204 of Set 1 | kushima\n",
      "Processing record 205 of Set 1 | banda aceh\n",
      "Processing record 206 of Set 1 | marawi\n",
      "Processing record 207 of Set 1 | adrar\n",
      "Processing record 208 of Set 1 | kamenka\n",
      "Processing record 209 of Set 1 | matadi\n",
      "Processing record 210 of Set 1 | torbay\n",
      "Processing record 211 of Set 1 | bismarck\n",
      "Processing record 212 of Set 1 | sibu\n",
      "Processing record 213 of Set 1 | borba\n",
      "Processing record 214 of Set 1 | chitral\n",
      "Processing record 215 of Set 1 | pochutla\n",
      "Processing record 216 of Set 1 | clarksburg\n",
      "Processing record 217 of Set 1 | mahanoro\n",
      "Processing record 218 of Set 1 | cabo san lucas\n",
      "Processing record 219 of Set 1 | san jose\n",
      "Processing record 220 of Set 1 | upernavik\n",
      "Processing record 221 of Set 1 | portobelo\n",
      "Processing record 222 of Set 1 | yulara\n",
      "Processing record 223 of Set 1 | grants\n",
      "Processing record 224 of Set 1 | san cristobal\n",
      "Processing record 225 of Set 1 | ridgecrest\n",
      "Processing record 226 of Set 1 | klaksvik\n",
      "Processing record 227 of Set 1 | birao\n",
      "City not found. Skipping...\n",
      "Processing record 228 of Set 1 | huarmey\n",
      "Processing record 229 of Set 1 | talmenka\n",
      "Processing record 230 of Set 1 | sokoni\n",
      "City not found. Skipping...\n",
      "Processing record 231 of Set 1 | gizo\n",
      "Processing record 232 of Set 1 | boende\n",
      "Processing record 233 of Set 1 | bhadra\n",
      "City not found. Skipping...\n",
      "Processing record 234 of Set 1 | port lincoln\n",
      "Processing record 235 of Set 1 | barrow\n",
      "Processing record 236 of Set 1 | hambantota\n",
      "Processing record 237 of Set 1 | maniitsoq\n",
      "Processing record 238 of Set 1 | gbarnga\n",
      "Processing record 239 of Set 1 | rehoboth\n",
      "Processing record 240 of Set 1 | igarka\n",
      "Processing record 241 of Set 1 | luis correia\n",
      "Processing record 242 of Set 1 | saint-georges\n",
      "Processing record 243 of Set 1 | el guayabito\n",
      "Processing record 244 of Set 1 | ankazoabo\n",
      "Processing record 245 of Set 1 | eregli\n",
      "Processing record 246 of Set 1 | pokosnoye\n",
      "Processing record 247 of Set 1 | codrington\n",
      "Processing record 248 of Set 1 | kavieng\n",
      "Processing record 249 of Set 1 | porto novo\n",
      "Processing record 250 of Set 1 | mango\n",
      "Processing record 251 of Set 1 | luderitz\n",
      "Processing record 252 of Set 1 | saiha\n",
      "Processing record 253 of Set 1 | amga\n",
      "City not found. Skipping...\n",
      "Processing record 254 of Set 1 | bima\n",
      "Processing record 255 of Set 1 | cayenne\n",
      "City not found. Skipping...\n",
      "Processing record 256 of Set 1 | benguela\n",
      "Processing record 257 of Set 1 | chapais\n",
      "Processing record 258 of Set 1 | kisesa\n",
      "Processing record 259 of Set 1 | tuatapere\n",
      "Processing record 260 of Set 1 | salinopolis\n",
      "Processing record 261 of Set 1 | lompoc\n",
      "Processing record 262 of Set 1 | grimshaw\n",
      "City not found. Skipping...\n",
      "Processing record 263 of Set 1 | bermejo\n",
      "City not found. Skipping...\n",
      "Processing record 264 of Set 1 | matagami\n",
      "Processing record 265 of Set 1 | celestun\n",
      "Processing record 266 of Set 1 | labuan\n",
      "Processing record 267 of Set 1 | fairbanks\n",
      "Processing record 268 of Set 1 | soledade\n",
      "Processing record 269 of Set 1 | tokur\n",
      "Processing record 270 of Set 1 | santa maria\n",
      "Processing record 271 of Set 1 | shasta lake\n",
      "Processing record 272 of Set 1 | broome\n",
      "Processing record 273 of Set 1 | beringovskiy\n",
      "Processing record 274 of Set 1 | inhambane\n",
      "Processing record 275 of Set 1 | sakakah\n",
      "Processing record 276 of Set 1 | kinel-cherkassy\n",
      "City not found. Skipping...\n",
      "Processing record 277 of Set 1 | constantine\n",
      "Processing record 278 of Set 1 | cidreira\n",
      "Processing record 279 of Set 1 | tyrma\n",
      "City not found. Skipping...\n",
      "Processing record 280 of Set 1 | chuy\n",
      "Processing record 281 of Set 1 | atar\n",
      "Processing record 282 of Set 1 | hamilton\n",
      "Processing record 283 of Set 1 | kaeo\n",
      "Processing record 284 of Set 1 | araguaina\n",
      "Processing record 285 of Set 1 | san quintin\n",
      "Processing record 286 of Set 1 | baykit\n",
      "Processing record 287 of Set 1 | shingu\n",
      "Processing record 288 of Set 1 | ust-kan\n",
      "Processing record 289 of Set 1 | juneau\n",
      "Processing record 290 of Set 1 | ippy\n",
      "City not found. Skipping...\n",
      "Processing record 291 of Set 1 | colonial heights\n",
      "Processing record 292 of Set 1 | palembang\n",
      "Processing record 293 of Set 1 | vostok\n",
      "Processing record 294 of Set 1 | samarai\n",
      "Processing record 295 of Set 1 | panama city\n",
      "Processing record 296 of Set 1 | alassio\n",
      "Processing record 297 of Set 1 | wick\n",
      "Processing record 298 of Set 1 | novyy urengoy\n",
      "Processing record 299 of Set 1 | ancud\n",
      "Processing record 300 of Set 1 | mapiripan\n",
      "Processing record 301 of Set 1 | pacific grove\n",
      "Processing record 302 of Set 1 | naze\n",
      "Processing record 303 of Set 1 | eyl\n",
      "Processing record 304 of Set 1 | palmer\n",
      "Processing record 305 of Set 1 | ostersund\n",
      "Processing record 306 of Set 1 | kismayo\n",
      "Processing record 307 of Set 1 | vanavara\n",
      "Processing record 308 of Set 1 | oistins\n",
      "Processing record 309 of Set 1 | micheweni\n",
      "Processing record 310 of Set 1 | vila velha\n",
      "Processing record 311 of Set 1 | ambilobe\n",
      "Processing record 312 of Set 1 | haines junction\n",
      "Processing record 313 of Set 1 | kenai\n",
      "Processing record 314 of Set 1 | bafia\n",
      "Processing record 315 of Set 1 | osmanabad\n",
      "Processing record 316 of Set 1 | grindavik\n",
      "Processing record 317 of Set 1 | timbiqui\n",
      "Processing record 318 of Set 1 | grand baie\n",
      "Processing record 319 of Set 1 | imbituba\n",
      "City not found. Skipping...\n",
      "Processing record 320 of Set 1 | aden\n",
      "Processing record 321 of Set 1 | kuching\n",
      "Processing record 322 of Set 1 | saint anthony\n",
      "Processing record 323 of Set 1 | mahebourg\n",
      "Processing record 324 of Set 1 | faanui\n",
      "Processing record 325 of Set 1 | upata\n",
      "Processing record 326 of Set 1 | ewa beach\n",
      "Processing record 327 of Set 1 | ikwiriri\n",
      "Processing record 328 of Set 1 | azul\n",
      "Processing record 329 of Set 1 | vardo\n",
      "Processing record 330 of Set 1 | rabo de peixe\n",
      "Processing record 331 of Set 1 | groa\n",
      "Processing record 332 of Set 1 | anadyr\n",
      "Processing record 333 of Set 1 | basoda\n",
      "Processing record 334 of Set 1 | sitka\n",
      "Processing record 335 of Set 1 | dunedin\n",
      "Processing record 336 of Set 1 | villa carlos paz\n",
      "Processing record 337 of Set 1 | victoria\n",
      "City not found. Skipping...\n",
      "Processing record 338 of Set 1 | cedar city\n",
      "Processing record 339 of Set 1 | zaltan\n",
      "Processing record 340 of Set 1 | socorro\n",
      "Processing record 341 of Set 1 | namie\n",
      "City not found. Skipping...\n",
      "Processing record 342 of Set 1 | timmins\n",
      "Processing record 343 of Set 1 | sorland\n",
      "Processing record 344 of Set 1 | aklavik\n",
      "Processing record 345 of Set 1 | ambon\n",
      "Processing record 346 of Set 1 | alugan\n",
      "Processing record 347 of Set 1 | port blair\n",
      "Processing record 348 of Set 1 | nyimba\n",
      "Processing record 349 of Set 1 | mortka\n",
      "Processing record 350 of Set 1 | husavik\n",
      "Processing record 351 of Set 1 | buala\n",
      "City not found. Skipping...\n",
      "Processing record 352 of Set 1 | mayor pablo lagerenza\n",
      "Processing record 353 of Set 1 | capelinha\n",
      "Processing record 354 of Set 1 | lubbock\n",
      "Processing record 355 of Set 1 | amapa\n",
      "Processing record 356 of Set 1 | sandwick\n",
      "Processing record 357 of Set 1 | les cayes\n",
      "Processing record 358 of Set 1 | bonavista\n",
      "Processing record 359 of Set 1 | ngawen\n",
      "Processing record 360 of Set 1 | souillac\n",
      "Processing record 361 of Set 1 | stutterheim\n",
      "City not found. Skipping...\n",
      "Processing record 362 of Set 1 | jiexiu\n",
      "Processing record 363 of Set 1 | west plains\n",
      "Processing record 364 of Set 1 | svetlogorsk\n",
      "Processing record 365 of Set 1 | la ronge\n",
      "Processing record 366 of Set 1 | nueva guinea\n",
      "Processing record 367 of Set 1 | santo antonio do ica\n",
      "Processing record 368 of Set 1 | nanortalik\n",
      "Processing record 369 of Set 1 | saint-joseph\n",
      "Processing record 370 of Set 1 | christchurch\n",
      "Processing record 371 of Set 1 | labuhan\n",
      "Processing record 372 of Set 1 | asaba\n",
      "Processing record 373 of Set 1 | kaitangata\n",
      "Processing record 374 of Set 1 | kensington\n",
      "Processing record 375 of Set 1 | bratsk\n",
      "Processing record 376 of Set 1 | ixtapa\n",
      "Processing record 377 of Set 1 | batouri\n",
      "Processing record 378 of Set 1 | trinidad\n",
      "Processing record 379 of Set 1 | nzerekore\n",
      "Processing record 380 of Set 1 | iquitos\n",
      "Processing record 381 of Set 1 | praia\n",
      "Processing record 382 of Set 1 | churapcha\n",
      "City not found. Skipping...\n",
      "Processing record 383 of Set 1 | chokurdakh\n",
      "Processing record 384 of Set 1 | san policarpo\n",
      "Processing record 385 of Set 1 | whitianga\n",
      "Processing record 386 of Set 1 | mildura\n",
      "Processing record 387 of Set 1 | coahuayana\n",
      "Processing record 388 of Set 1 | bull savanna\n",
      "Processing record 389 of Set 1 | banjar\n",
      "Processing record 390 of Set 1 | rawson\n",
      "Processing record 391 of Set 1 | guerrero negro\n",
      "Processing record 392 of Set 1 | porangatu\n",
      "Processing record 393 of Set 1 | tagusao\n",
      "Processing record 394 of Set 1 | geraldton\n",
      "Processing record 395 of Set 1 | belyy yar\n",
      "Processing record 396 of Set 1 | kalispell\n",
      "Processing record 397 of Set 1 | simga\n",
      "Processing record 398 of Set 1 | payo\n",
      "Processing record 399 of Set 1 | makakilo city\n",
      "Processing record 400 of Set 1 | doba\n",
      "Processing record 401 of Set 1 | gigmoto\n",
      "Processing record 402 of Set 1 | college\n",
      "Processing record 403 of Set 1 | alta floresta\n",
      "Processing record 404 of Set 1 | hofn\n",
      "Processing record 405 of Set 1 | barcelos\n",
      "Processing record 406 of Set 1 | poronaysk\n",
      "City not found. Skipping...\n",
      "Processing record 407 of Set 1 | tukan\n",
      "City not found. Skipping...\n",
      "Processing record 408 of Set 1 | provideniya\n",
      "Processing record 409 of Set 1 | flinders\n",
      "Processing record 410 of Set 1 | poum\n",
      "Processing record 411 of Set 1 | ust-ishim\n",
      "Processing record 412 of Set 1 | bria\n",
      "Processing record 413 of Set 1 | padang\n",
      "Processing record 414 of Set 1 | bud\n",
      "Processing record 415 of Set 1 | smithers\n",
      "Processing record 416 of Set 1 | buraydah\n",
      "Processing record 417 of Set 1 | marathon\n",
      "Processing record 418 of Set 1 | fuengirola\n",
      "Processing record 419 of Set 1 | clyde river\n",
      "Processing record 420 of Set 1 | taree\n",
      "Processing record 421 of Set 1 | aktas\n",
      "Processing record 422 of Set 1 | havelock\n",
      "Processing record 423 of Set 1 | sola\n",
      "Processing record 424 of Set 1 | high level\n",
      "Processing record 425 of Set 1 | coxim\n",
      "Processing record 426 of Set 1 | omagari\n",
      "Processing record 427 of Set 1 | aksarka\n",
      "Processing record 428 of Set 1 | umm lajj\n",
      "Processing record 429 of Set 1 | kloulklubed\n",
      "Processing record 430 of Set 1 | koumac\n",
      "Processing record 431 of Set 1 | vila franca do campo\n",
      "City not found. Skipping...\n",
      "Processing record 432 of Set 1 | te anau\n",
      "Processing record 433 of Set 1 | banamba\n",
      "Processing record 434 of Set 1 | osorno\n",
      "Processing record 435 of Set 1 | udachnyy\n",
      "Processing record 436 of Set 1 | vibo valentia\n",
      "Processing record 437 of Set 1 | nanakuli\n",
      "Processing record 438 of Set 1 | bundaberg\n",
      "Processing record 439 of Set 1 | bosconia\n",
      "Processing record 440 of Set 1 | tera\n",
      "Processing record 441 of Set 1 | kang\n",
      "Processing record 442 of Set 1 | sisimiut\n",
      "City not found. Skipping...\n",
      "Processing record 443 of Set 1 | shiyan\n",
      "Processing record 444 of Set 1 | bubaque\n",
      "Processing record 445 of Set 1 | djenne\n",
      "Processing record 446 of Set 1 | port hardy\n",
      "Processing record 447 of Set 1 | lasa\n",
      "Processing record 448 of Set 1 | maragogi\n",
      "Processing record 449 of Set 1 | dombrad\n",
      "Processing record 450 of Set 1 | silva jardim\n",
      "Processing record 451 of Set 1 | port hope\n",
      "Processing record 452 of Set 1 | artyom\n",
      "Processing record 453 of Set 1 | fukuma\n",
      "Processing record 454 of Set 1 | yangambi\n",
      "Processing record 455 of Set 1 | kanadukathan\n",
      "Processing record 456 of Set 1 | padampur\n",
      "Processing record 457 of Set 1 | cache creek\n",
      "Processing record 458 of Set 1 | derzhavinsk\n",
      "Processing record 459 of Set 1 | coihaique\n",
      "Processing record 460 of Set 1 | anchorage\n",
      "Processing record 461 of Set 1 | monteprandone\n",
      "Processing record 462 of Set 1 | manokwari\n",
      "Processing record 463 of Set 1 | mount isa\n",
      "Processing record 464 of Set 1 | pemba\n",
      "Processing record 465 of Set 1 | agde\n",
      "Processing record 466 of Set 1 | thessalon\n",
      "Processing record 467 of Set 1 | puerto colombia\n",
      "Processing record 468 of Set 1 | haslett\n",
      "Processing record 469 of Set 1 | fare\n",
      "Processing record 470 of Set 1 | glazunovka\n",
      "Processing record 471 of Set 1 | severnyy\n",
      "Processing record 472 of Set 1 | minsk\n",
      "Processing record 473 of Set 1 | saint george\n",
      "Processing record 474 of Set 1 | antofagasta\n",
      "Processing record 475 of Set 1 | elizabeth city\n",
      "Processing record 476 of Set 1 | zhuhai\n",
      "Processing record 477 of Set 1 | atlantic city\n",
      "Processing record 478 of Set 1 | nizhniy odes\n",
      "City not found. Skipping...\n",
      "Processing record 479 of Set 1 | mokrousovo\n",
      "Processing record 480 of Set 1 | vallenar\n",
      "Processing record 481 of Set 1 | mattru\n",
      "Processing record 482 of Set 1 | tala\n",
      "Processing record 483 of Set 1 | grindsted\n",
      "Processing record 484 of Set 1 | coruripe\n",
      "Processing record 485 of Set 1 | emba\n",
      "Processing record 486 of Set 1 | bousso\n",
      "Processing record 487 of Set 1 | oranjemund\n",
      "Processing record 488 of Set 1 | kilindoni\n",
      "Processing record 489 of Set 1 | kulu\n",
      "Processing record 490 of Set 1 | ardalstangen\n",
      "Processing record 491 of Set 1 | vestmannaeyjar\n",
      "Processing record 492 of Set 1 | beira\n",
      "City not found. Skipping...\n",
      "Processing record 493 of Set 1 | ossora\n",
      "Processing record 494 of Set 1 | alihe\n",
      "City not found. Skipping...\n",
      "Processing record 495 of Set 1 | inta\n",
      "Processing record 496 of Set 1 | namtsy\n",
      "Processing record 497 of Set 1 | santa luzia\n",
      "Processing record 498 of Set 1 | aranos\n",
      "Processing record 499 of Set 1 | zdvinsk\n",
      "Processing record 500 of Set 1 | bukachacha\n",
      "Processing record 501 of Set 1 | florianopolis\n",
      "Processing record 502 of Set 1 | pangnirtung\n",
      "Processing record 503 of Set 1 | ludvika\n",
      "Processing record 504 of Set 1 | ponta delgada\n",
      "Processing record 505 of Set 1 | yar-sale\n",
      "City not found. Skipping...\n",
      "Processing record 506 of Set 1 | mikhaylovka\n",
      "Processing record 507 of Set 1 | tessalit\n",
      "Processing record 508 of Set 1 | nizwa\n",
      "Processing record 509 of Set 1 | abha\n",
      "Processing record 510 of Set 1 | havre-saint-pierre\n",
      "Processing record 511 of Set 1 | buenaventura\n",
      "Processing record 512 of Set 1 | kahului\n",
      "Processing record 513 of Set 1 | victor harbor\n",
      "Processing record 514 of Set 1 | dicabisagan\n",
      "Processing record 515 of Set 1 | ereymentau\n",
      "Processing record 516 of Set 1 | tarpon springs\n",
      "Processing record 517 of Set 1 | deputatskiy\n",
      "Processing record 518 of Set 1 | olafsvik\n",
      "Processing record 519 of Set 1 | dullewala\n",
      "Processing record 520 of Set 1 | kokopo\n",
      "City not found. Skipping...\n",
      "Processing record 521 of Set 1 | westport\n",
      "Processing record 522 of Set 1 | divnogorsk\n",
      "Processing record 523 of Set 1 | linxia\n",
      "Processing record 524 of Set 1 | ransang\n",
      "Processing record 525 of Set 1 | kashi\n",
      "Processing record 526 of Set 1 | ruston\n",
      "Processing record 527 of Set 1 | mandalgovi\n",
      "Processing record 528 of Set 1 | carlyle\n",
      "City not found. Skipping...\n",
      "Processing record 529 of Set 1 | praya\n",
      "Processing record 530 of Set 1 | mbarara\n",
      "City not found. Skipping...\n",
      "Processing record 531 of Set 1 | burns lake\n",
      "Processing record 532 of Set 1 | bom jesus\n",
      "Processing record 533 of Set 1 | wanning\n",
      "Processing record 534 of Set 1 | shirokiy\n",
      "Processing record 535 of Set 1 | hornepayne\n",
      "Processing record 536 of Set 1 | grand-santi\n",
      "Processing record 537 of Set 1 | hearst\n",
      "City not found. Skipping...\n",
      "Processing record 538 of Set 1 | quang ngai\n",
      "Processing record 539 of Set 1 | xining\n",
      "Processing record 540 of Set 1 | mayo\n",
      "Processing record 541 of Set 1 | hanzhong\n",
      "Processing record 542 of Set 1 | sao joao da barra\n",
      "Processing record 543 of Set 1 | lucapa\n",
      "Processing record 544 of Set 1 | dancheng\n",
      "Processing record 545 of Set 1 | hobyo\n",
      "Processing record 546 of Set 1 | half moon bay\n",
      "Processing record 547 of Set 1 | mehamn\n",
      "City not found. Skipping...\n",
      "Processing record 548 of Set 1 | ternate\n",
      "Processing record 549 of Set 1 | severnyy-kospashskiy\n",
      "Processing record 550 of Set 1 | manacapuru\n",
      "Processing record 551 of Set 1 | nichinan\n",
      "Processing record 552 of Set 1 | pangkalanbuun\n",
      "Processing record 553 of Set 1 | sabang\n",
      "Processing record 554 of Set 1 | tambura\n",
      "City not found. Skipping...\n",
      "Processing record 555 of Set 1 | krasnoarmeysk\n",
      "City not found. Skipping...\n",
      "Processing record 556 of Set 1 | dhidhdhoo\n",
      "Processing record 557 of Set 1 | berdigestyakh\n",
      "Processing record 558 of Set 1 | bilma\n",
      "Processing record 559 of Set 1 | ahipara\n",
      "-----------------------------\n",
      "Data Retrieval Complete\n",
      "-----------------------------\n"
     ]
    }
   ],
   "source": [
    "# set up lists to hold reponse info\n",
    "City_Name = []\n",
    "Country = []\n",
    "Date = []\n",
    "Lat = []\n",
    "Lng = []\n",
    "Temp = []\n",
    "Humid = []\n",
    "Cloud = []\n",
    "Wind_Speed = []\n",
    "count = 0\n",
    "    \n",
    "# Loop through the list of cities and perform a request for data on each\n",
    "\n",
    "print(\"Beginning Data Retrieval\")     \n",
    "print(\"-----------------------------\")\n",
    "\n",
    "for city in cities:\n",
    "    weather_response = requests.get(f\"{url}&q={city}&{key}&units=imperial\")\n",
    "    weather_data = weather_response.json()\n",
    "    try:\n",
    "        City_Name.append(weather_data['name'])\n",
    "        Country.append(weather_data[\"sys\"][\"country\"])\n",
    "        Date.append(weather_data[\"dt\"])\n",
    "        Lat.append(weather_data[\"coord\"][\"lat\"])\n",
    "        Lng.append(weather_data[\"coord\"][\"lon\"])\n",
    "        Temp.append(weather_data[\"main\"][\"temp_max\"])\n",
    "        Humid.append(weather_data[\"main\"][\"humidity\"])\n",
    "        Cloud.append(weather_data[\"clouds\"][\"all\"])\n",
    "        Wind_Speed.append(weather_data[\"wind\"][\"speed\"])\n",
    "        count += 1\n",
    "        print(f\"Processing record {count} of Set 1 | {city}\")\n",
    "    except:\n",
    "        print(\"City not found. Skipping...\") \n",
    "        pass\n",
    "        \n",
    "print(\"-----------------------------\")\n",
    "print(\"Data Retrieval Complete\")      \n",
    "print(\"-----------------------------\")"
   ]
  },
  {
   "cell_type": "code",
   "execution_count": null,
   "metadata": {},
   "outputs": [],
   "source": [
    "\n",
    "        "
   ]
  },
  {
   "cell_type": "markdown",
   "metadata": {},
   "source": [
    "### Convert Raw Data to DataFrame\n",
    "* Export the city data into a .csv.\n",
    "* Display the DataFrame"
   ]
  },
  {
   "cell_type": "code",
   "execution_count": 5,
   "metadata": {},
   "outputs": [
    {
     "data": {
      "text/html": [
       "<div>\n",
       "<style scoped>\n",
       "    .dataframe tbody tr th:only-of-type {\n",
       "        vertical-align: middle;\n",
       "    }\n",
       "\n",
       "    .dataframe tbody tr th {\n",
       "        vertical-align: top;\n",
       "    }\n",
       "\n",
       "    .dataframe thead th {\n",
       "        text-align: right;\n",
       "    }\n",
       "</style>\n",
       "<table border=\"1\" class=\"dataframe\">\n",
       "  <thead>\n",
       "    <tr style=\"text-align: right;\">\n",
       "      <th></th>\n",
       "      <th>City</th>\n",
       "      <th>Latitude</th>\n",
       "      <th>Longitude</th>\n",
       "      <th>Max Temp</th>\n",
       "      <th>Humidity</th>\n",
       "      <th>Cloudiness</th>\n",
       "      <th>Wind Speed</th>\n",
       "      <th>Country</th>\n",
       "      <th>Date</th>\n",
       "    </tr>\n",
       "  </thead>\n",
       "  <tbody>\n",
       "    <tr>\n",
       "      <th>0</th>\n",
       "      <td>Mossamedes</td>\n",
       "      <td>-15.20</td>\n",
       "      <td>12.15</td>\n",
       "      <td>78.64</td>\n",
       "      <td>49</td>\n",
       "      <td>85</td>\n",
       "      <td>2.24</td>\n",
       "      <td>AO</td>\n",
       "      <td>1589083571</td>\n",
       "    </tr>\n",
       "    <tr>\n",
       "      <th>1</th>\n",
       "      <td>Hermanus</td>\n",
       "      <td>-34.42</td>\n",
       "      <td>19.23</td>\n",
       "      <td>57.00</td>\n",
       "      <td>81</td>\n",
       "      <td>0</td>\n",
       "      <td>5.97</td>\n",
       "      <td>ZA</td>\n",
       "      <td>1589083571</td>\n",
       "    </tr>\n",
       "    <tr>\n",
       "      <th>2</th>\n",
       "      <td>Punta Arenas</td>\n",
       "      <td>-53.15</td>\n",
       "      <td>-70.92</td>\n",
       "      <td>42.80</td>\n",
       "      <td>93</td>\n",
       "      <td>90</td>\n",
       "      <td>1.54</td>\n",
       "      <td>CL</td>\n",
       "      <td>1589083394</td>\n",
       "    </tr>\n",
       "    <tr>\n",
       "      <th>3</th>\n",
       "      <td>Bethel</td>\n",
       "      <td>41.37</td>\n",
       "      <td>-73.41</td>\n",
       "      <td>34.00</td>\n",
       "      <td>69</td>\n",
       "      <td>1</td>\n",
       "      <td>8.05</td>\n",
       "      <td>US</td>\n",
       "      <td>1589083571</td>\n",
       "    </tr>\n",
       "    <tr>\n",
       "      <th>4</th>\n",
       "      <td>Bagotville</td>\n",
       "      <td>-28.98</td>\n",
       "      <td>153.42</td>\n",
       "      <td>77.00</td>\n",
       "      <td>57</td>\n",
       "      <td>8</td>\n",
       "      <td>11.41</td>\n",
       "      <td>AU</td>\n",
       "      <td>1589083572</td>\n",
       "    </tr>\n",
       "  </tbody>\n",
       "</table>\n",
       "</div>"
      ],
      "text/plain": [
       "           City  Latitude  Longitude  Max Temp  Humidity  Cloudiness  \\\n",
       "0    Mossamedes    -15.20      12.15     78.64        49          85   \n",
       "1      Hermanus    -34.42      19.23     57.00        81           0   \n",
       "2  Punta Arenas    -53.15     -70.92     42.80        93          90   \n",
       "3        Bethel     41.37     -73.41     34.00        69           1   \n",
       "4    Bagotville    -28.98     153.42     77.00        57           8   \n",
       "\n",
       "   Wind Speed Country        Date  \n",
       "0        2.24      AO  1589083571  \n",
       "1        5.97      ZA  1589083571  \n",
       "2        1.54      CL  1589083394  \n",
       "3        8.05      US  1589083571  \n",
       "4       11.41      AU  1589083572  "
      ]
     },
     "execution_count": 5,
     "metadata": {},
     "output_type": "execute_result"
    }
   ],
   "source": [
    "weather_df=pd.DataFrame({\n",
    "    \"City\":City_Name,\n",
    "    \"Latitude\":Lat, \n",
    "    \"Longitude\":Lng,\n",
    "    \"Max Temp\":Temp,\n",
    "    \"Humidity\":Humid,\n",
    "    \"Cloudiness\":Cloud,\n",
    "    \"Wind Speed\":Wind_Speed,\n",
    "    \"Country\":Country, \n",
    "    \"Date\":Date\n",
    "})\n",
    "\n",
    "weather_df.head()"
   ]
  },
  {
   "cell_type": "code",
   "execution_count": 6,
   "metadata": {},
   "outputs": [],
   "source": [
    "weather_df.to_csv(\"output_data/weather_data.csv\", index=False)"
   ]
  },
  {
   "cell_type": "markdown",
   "metadata": {},
   "source": [
    "## Inspect the data and remove the cities where the humidity > 100%.\n",
    "----\n",
    "Skip this step if there are no cities that have humidity > 100%. "
   ]
  },
  {
   "cell_type": "code",
   "execution_count": 7,
   "metadata": {},
   "outputs": [
    {
     "data": {
      "text/html": [
       "<div>\n",
       "<style scoped>\n",
       "    .dataframe tbody tr th:only-of-type {\n",
       "        vertical-align: middle;\n",
       "    }\n",
       "\n",
       "    .dataframe tbody tr th {\n",
       "        vertical-align: top;\n",
       "    }\n",
       "\n",
       "    .dataframe thead th {\n",
       "        text-align: right;\n",
       "    }\n",
       "</style>\n",
       "<table border=\"1\" class=\"dataframe\">\n",
       "  <thead>\n",
       "    <tr style=\"text-align: right;\">\n",
       "      <th></th>\n",
       "      <th>Latitude</th>\n",
       "      <th>Longitude</th>\n",
       "      <th>Max Temp</th>\n",
       "      <th>Humidity</th>\n",
       "      <th>Cloudiness</th>\n",
       "      <th>Wind Speed</th>\n",
       "      <th>Date</th>\n",
       "    </tr>\n",
       "  </thead>\n",
       "  <tbody>\n",
       "    <tr>\n",
       "      <th>count</th>\n",
       "      <td>559.000000</td>\n",
       "      <td>559.000000</td>\n",
       "      <td>559.000000</td>\n",
       "      <td>559.000000</td>\n",
       "      <td>559.000000</td>\n",
       "      <td>559.000000</td>\n",
       "      <td>5.590000e+02</td>\n",
       "    </tr>\n",
       "    <tr>\n",
       "      <th>mean</th>\n",
       "      <td>19.018748</td>\n",
       "      <td>17.054615</td>\n",
       "      <td>63.400769</td>\n",
       "      <td>68.874776</td>\n",
       "      <td>51.354204</td>\n",
       "      <td>8.211055</td>\n",
       "      <td>1.589084e+09</td>\n",
       "    </tr>\n",
       "    <tr>\n",
       "      <th>std</th>\n",
       "      <td>33.253397</td>\n",
       "      <td>92.459653</td>\n",
       "      <td>18.557015</td>\n",
       "      <td>22.766433</td>\n",
       "      <td>38.672549</td>\n",
       "      <td>5.870826</td>\n",
       "      <td>8.188187e+01</td>\n",
       "    </tr>\n",
       "    <tr>\n",
       "      <th>min</th>\n",
       "      <td>-54.800000</td>\n",
       "      <td>-175.200000</td>\n",
       "      <td>1.400000</td>\n",
       "      <td>10.000000</td>\n",
       "      <td>0.000000</td>\n",
       "      <td>0.130000</td>\n",
       "      <td>1.589083e+09</td>\n",
       "    </tr>\n",
       "    <tr>\n",
       "      <th>0.25</th>\n",
       "      <td>-8.030000</td>\n",
       "      <td>-65.540000</td>\n",
       "      <td>50.000000</td>\n",
       "      <td>55.000000</td>\n",
       "      <td>8.000000</td>\n",
       "      <td>3.850000</td>\n",
       "      <td>1.589084e+09</td>\n",
       "    </tr>\n",
       "    <tr>\n",
       "      <th>0.5</th>\n",
       "      <td>20.880000</td>\n",
       "      <td>20.740000</td>\n",
       "      <td>65.980000</td>\n",
       "      <td>74.000000</td>\n",
       "      <td>52.000000</td>\n",
       "      <td>6.930000</td>\n",
       "      <td>1.589084e+09</td>\n",
       "    </tr>\n",
       "    <tr>\n",
       "      <th>0.75</th>\n",
       "      <td>48.215000</td>\n",
       "      <td>102.015000</td>\n",
       "      <td>78.155000</td>\n",
       "      <td>87.000000</td>\n",
       "      <td>90.000000</td>\n",
       "      <td>10.595000</td>\n",
       "      <td>1.589084e+09</td>\n",
       "    </tr>\n",
       "    <tr>\n",
       "      <th>max</th>\n",
       "      <td>77.480000</td>\n",
       "      <td>179.320000</td>\n",
       "      <td>101.550000</td>\n",
       "      <td>100.000000</td>\n",
       "      <td>100.000000</td>\n",
       "      <td>51.450000</td>\n",
       "      <td>1.589084e+09</td>\n",
       "    </tr>\n",
       "  </tbody>\n",
       "</table>\n",
       "</div>"
      ],
      "text/plain": [
       "         Latitude   Longitude    Max Temp    Humidity  Cloudiness  Wind Speed  \\\n",
       "count  559.000000  559.000000  559.000000  559.000000  559.000000  559.000000   \n",
       "mean    19.018748   17.054615   63.400769   68.874776   51.354204    8.211055   \n",
       "std     33.253397   92.459653   18.557015   22.766433   38.672549    5.870826   \n",
       "min    -54.800000 -175.200000    1.400000   10.000000    0.000000    0.130000   \n",
       "0.25    -8.030000  -65.540000   50.000000   55.000000    8.000000    3.850000   \n",
       "0.5     20.880000   20.740000   65.980000   74.000000   52.000000    6.930000   \n",
       "0.75    48.215000  102.015000   78.155000   87.000000   90.000000   10.595000   \n",
       "max     77.480000  179.320000  101.550000  100.000000  100.000000   51.450000   \n",
       "\n",
       "               Date  \n",
       "count  5.590000e+02  \n",
       "mean   1.589084e+09  \n",
       "std    8.188187e+01  \n",
       "min    1.589083e+09  \n",
       "0.25   1.589084e+09  \n",
       "0.5    1.589084e+09  \n",
       "0.75   1.589084e+09  \n",
       "max    1.589084e+09  "
      ]
     },
     "execution_count": 7,
     "metadata": {},
     "output_type": "execute_result"
    }
   ],
   "source": [
    "mean=weather_df.mean()\n",
    "mn=weather_df.min()\n",
    "mx=weather_df.max()\n",
    "ct=weather_df.count(0)\n",
    "st=weather_df.std()\n",
    "quartiles=weather_df.quantile([.25,.5,.75])\n",
    "\n",
    "st=weather_df.drop(columns=[\"City\", \"Country\"])\n",
    "st_1=st.agg(['count','mean','std','min'])\n",
    "st_2=st.agg(['max'])\n",
    "\n",
    "stat_table=st_1.append(quartiles)\n",
    "stat_table=stat_table.append(st_2)\n",
    "stat_table"
   ]
  },
  {
   "cell_type": "code",
   "execution_count": 8,
   "metadata": {},
   "outputs": [
    {
     "data": {
      "text/html": [
       "<div>\n",
       "<style scoped>\n",
       "    .dataframe tbody tr th:only-of-type {\n",
       "        vertical-align: middle;\n",
       "    }\n",
       "\n",
       "    .dataframe tbody tr th {\n",
       "        vertical-align: top;\n",
       "    }\n",
       "\n",
       "    .dataframe thead th {\n",
       "        text-align: right;\n",
       "    }\n",
       "</style>\n",
       "<table border=\"1\" class=\"dataframe\">\n",
       "  <thead>\n",
       "    <tr style=\"text-align: right;\">\n",
       "      <th></th>\n",
       "      <th>City</th>\n",
       "      <th>Latitude</th>\n",
       "      <th>Longitude</th>\n",
       "      <th>Max Temp</th>\n",
       "      <th>Humidity</th>\n",
       "      <th>Cloudiness</th>\n",
       "      <th>Wind Speed</th>\n",
       "      <th>Country</th>\n",
       "      <th>Date</th>\n",
       "    </tr>\n",
       "  </thead>\n",
       "  <tbody>\n",
       "  </tbody>\n",
       "</table>\n",
       "</div>"
      ],
      "text/plain": [
       "Empty DataFrame\n",
       "Columns: [City, Latitude, Longitude, Max Temp, Humidity, Cloudiness, Wind Speed, Country, Date]\n",
       "Index: []"
      ]
     },
     "execution_count": 8,
     "metadata": {},
     "output_type": "execute_result"
    }
   ],
   "source": [
    "#  Get the indices of cities that have humidity over 100%.\n",
    "bad_humid_df=weather_df.loc[weather_df[\"Humidity\"]>100]\n",
    "bad_humid_df"
   ]
  },
  {
   "cell_type": "code",
   "execution_count": 9,
   "metadata": {},
   "outputs": [],
   "source": [
    "#List of rows to remove by index\n",
    "remove=list(bad_humid_df.index)"
   ]
  },
  {
   "cell_type": "code",
   "execution_count": 10,
   "metadata": {},
   "outputs": [
    {
     "data": {
      "text/html": [
       "<div>\n",
       "<style scoped>\n",
       "    .dataframe tbody tr th:only-of-type {\n",
       "        vertical-align: middle;\n",
       "    }\n",
       "\n",
       "    .dataframe tbody tr th {\n",
       "        vertical-align: top;\n",
       "    }\n",
       "\n",
       "    .dataframe thead th {\n",
       "        text-align: right;\n",
       "    }\n",
       "</style>\n",
       "<table border=\"1\" class=\"dataframe\">\n",
       "  <thead>\n",
       "    <tr style=\"text-align: right;\">\n",
       "      <th></th>\n",
       "      <th>City</th>\n",
       "      <th>Latitude</th>\n",
       "      <th>Longitude</th>\n",
       "      <th>Max Temp</th>\n",
       "      <th>Humidity</th>\n",
       "      <th>Cloudiness</th>\n",
       "      <th>Wind Speed</th>\n",
       "      <th>Country</th>\n",
       "      <th>Date</th>\n",
       "    </tr>\n",
       "  </thead>\n",
       "  <tbody>\n",
       "    <tr>\n",
       "      <th>0</th>\n",
       "      <td>Mossamedes</td>\n",
       "      <td>-15.20</td>\n",
       "      <td>12.15</td>\n",
       "      <td>78.64</td>\n",
       "      <td>49</td>\n",
       "      <td>85</td>\n",
       "      <td>2.24</td>\n",
       "      <td>AO</td>\n",
       "      <td>1589083571</td>\n",
       "    </tr>\n",
       "    <tr>\n",
       "      <th>1</th>\n",
       "      <td>Hermanus</td>\n",
       "      <td>-34.42</td>\n",
       "      <td>19.23</td>\n",
       "      <td>57.00</td>\n",
       "      <td>81</td>\n",
       "      <td>0</td>\n",
       "      <td>5.97</td>\n",
       "      <td>ZA</td>\n",
       "      <td>1589083571</td>\n",
       "    </tr>\n",
       "    <tr>\n",
       "      <th>2</th>\n",
       "      <td>Punta Arenas</td>\n",
       "      <td>-53.15</td>\n",
       "      <td>-70.92</td>\n",
       "      <td>42.80</td>\n",
       "      <td>93</td>\n",
       "      <td>90</td>\n",
       "      <td>1.54</td>\n",
       "      <td>CL</td>\n",
       "      <td>1589083394</td>\n",
       "    </tr>\n",
       "    <tr>\n",
       "      <th>3</th>\n",
       "      <td>Bethel</td>\n",
       "      <td>41.37</td>\n",
       "      <td>-73.41</td>\n",
       "      <td>34.00</td>\n",
       "      <td>69</td>\n",
       "      <td>1</td>\n",
       "      <td>8.05</td>\n",
       "      <td>US</td>\n",
       "      <td>1589083571</td>\n",
       "    </tr>\n",
       "    <tr>\n",
       "      <th>4</th>\n",
       "      <td>Bagotville</td>\n",
       "      <td>-28.98</td>\n",
       "      <td>153.42</td>\n",
       "      <td>77.00</td>\n",
       "      <td>57</td>\n",
       "      <td>8</td>\n",
       "      <td>11.41</td>\n",
       "      <td>AU</td>\n",
       "      <td>1589083572</td>\n",
       "    </tr>\n",
       "  </tbody>\n",
       "</table>\n",
       "</div>"
      ],
      "text/plain": [
       "           City  Latitude  Longitude  Max Temp  Humidity  Cloudiness  \\\n",
       "0    Mossamedes    -15.20      12.15     78.64        49          85   \n",
       "1      Hermanus    -34.42      19.23     57.00        81           0   \n",
       "2  Punta Arenas    -53.15     -70.92     42.80        93          90   \n",
       "3        Bethel     41.37     -73.41     34.00        69           1   \n",
       "4    Bagotville    -28.98     153.42     77.00        57           8   \n",
       "\n",
       "   Wind Speed Country        Date  \n",
       "0        2.24      AO  1589083571  \n",
       "1        5.97      ZA  1589083571  \n",
       "2        1.54      CL  1589083394  \n",
       "3        8.05      US  1589083571  \n",
       "4       11.41      AU  1589083572  "
      ]
     },
     "execution_count": 10,
     "metadata": {},
     "output_type": "execute_result"
    }
   ],
   "source": [
    "# Make a new DataFrame equal to the city data to drop all humidity outliers by index.\n",
    "# Passing \"inplace=False\" will make a copy of the city_data DataFrame, which we call \"clean_city_data\".\n",
    "clean_city_data=weather_df.drop(remove,inplace=False)\n",
    "clean_city_data.head()"
   ]
  },
  {
   "cell_type": "code",
   "execution_count": 11,
   "metadata": {},
   "outputs": [],
   "source": [
    "# Extract relevant fields from the data frame\n",
    "\n",
    "\n",
    "# Export the City_Data into a csv\n",
    "clean_city_data.to_csv(\"output_data/City_Data.csv\", index=False)"
   ]
  },
  {
   "cell_type": "markdown",
   "metadata": {},
   "source": [
    "## Plotting the Data\n",
    "* Use proper labeling of the plots using plot titles (including date of analysis) and axes labels.\n",
    "* Save the plotted figures as .pngs."
   ]
  },
  {
   "cell_type": "markdown",
   "metadata": {},
   "source": [
    "## Latitude vs. Temperature Plot"
   ]
  },
  {
   "cell_type": "code",
   "execution_count": 34,
   "metadata": {
    "scrolled": true
   },
   "outputs": [
    {
     "name": "stdout",
     "output_type": "stream",
     "text": [
      "This plot is analyzing the max temperature of all cities on their latitude\n"
     ]
    },
    {
     "data": {
      "image/png": "[encoded data removed]",
      "text/plain": [
       "<Figure size 432x288 with 1 Axes>"
      ]
     },
     "metadata": {
      "needs_background": "light"
     },
     "output_type": "display_data"
    }
   ],
   "source": [
    "# Build scatter plot for latitude vs. temperature\n",
    "\n",
    "latplot=clean_city_data[\"Latitude\"]\n",
    "tempplot=clean_city_data[\"Max Temp\"]\n",
    "\n",
    "plt.scatter(latplot,tempplot)\n",
    "plt.title('City Latitude vs. Max Temperature')\n",
    "plt.xlabel('Latitude')\n",
    "plt.ylabel('Max Temperature (F)')\n",
    "plt.grid()\n",
    "\n",
    "print(\"This plot is analyzing the max temperature of all cities on their latitude\")\n",
    "\n",
    "plt.savefig(\"output_data/Temp_Plot.png\")\n",
    "plt.show()\n",
    "\n",
    "\n"
   ]
  },
  {
   "cell_type": "markdown",
   "metadata": {},
   "source": []
  },
  {
   "cell_type": "markdown",
   "metadata": {},
   "source": [
    "## Latitude vs. Humidity Plot"
   ]
  },
  {
   "cell_type": "code",
   "execution_count": null,
   "metadata": {},
   "outputs": [],
   "source": []
  },
  {
   "cell_type": "code",
   "execution_count": 35,
   "metadata": {},
   "outputs": [
    {
     "name": "stdout",
     "output_type": "stream",
     "text": [
      "This plot is analyzing the humidity percentage of all cities on their latitude\n"
     ]
    },
    {
     "data": {
      "image/png": "[encoded data removed]",
      "text/plain": [
       "<Figure size 432x288 with 1 Axes>"
      ]
     },
     "metadata": {
      "needs_background": "light"
     },
     "output_type": "display_data"
    }
   ],
   "source": [
    "# Build scatter plot for latitude vs. humidity\n",
    "\n",
    "humidplot=clean_city_data[\"Humidity\"]\n",
    "\n",
    "plt.scatter(humidplot,latplot)\n",
    "\n",
    "plt.title('City Latitude vs. Humidity')\n",
    "plt.xlabel('Latitude')\n",
    "plt.ylabel('Humidity (%)')\n",
    "plt.grid()\n",
    "\n",
    "plt.savefig(\"output_data/Humidity_Plot.PNG\")\n",
    "print(\"This plot is analyzing the humidity percentage of all cities on their latitude\")\n",
    "\n",
    "plt.show()"
   ]
  },
  {
   "cell_type": "markdown",
   "metadata": {},
   "source": [
    "## Latitude vs. Cloudiness Plot"
   ]
  },
  {
   "cell_type": "code",
   "execution_count": 36,
   "metadata": {},
   "outputs": [
    {
     "name": "stdout",
     "output_type": "stream",
     "text": [
      "This plot is analyzing the cloudiness percentage of all cities on their latitude\n"
     ]
    },
    {
     "data": {
      "image/png": "[encoded data removed]",
      "text/plain": [
       "<Figure size 432x288 with 1 Axes>"
      ]
     },
     "metadata": {
      "needs_background": "light"
     },
     "output_type": "display_data"
    }
   ],
   "source": [
    "# Build scatter plot for latitude vs. cloudiness\n",
    "\n",
    "cloudplot=clean_city_data[\"Cloudiness\"]\n",
    "\n",
    "plt.scatter(cloudplot,latplot)\n",
    "\n",
    "plt.title('City Latitude vs. Cloudiness')\n",
    "plt.xlabel('Latitude')\n",
    "plt.ylabel('Cloudiness (%)')\n",
    "plt.grid()\n",
    "\n",
    "plt.savefig(\"output_data/Cloudiness_Plot.PNG\")\n",
    "print(\"This plot is analyzing the cloudiness percentage of all cities on their latitude\")\n",
    "\n",
    "plt.show()"
   ]
  },
  {
   "cell_type": "markdown",
   "metadata": {},
   "source": [
    "## Latitude vs. Wind Speed Plot"
   ]
  },
  {
   "cell_type": "code",
   "execution_count": 37,
   "metadata": {},
   "outputs": [
    {
     "name": "stdout",
     "output_type": "stream",
     "text": [
      "This plot is analyzing the wind speed (mph) of all cities on their latitude\n"
     ]
    },
    {
     "data": {
      "image/png": "[encoded data removed]",
      "text/plain": [
       "<Figure size 432x288 with 1 Axes>"
      ]
     },
     "metadata": {
      "needs_background": "light"
     },
     "output_type": "display_data"
    }
   ],
   "source": [
    "# Build scatter plot for latitude vs. wind speed\n",
    "\n",
    "windplot=clean_city_data[\"Wind Speed\"]\n",
    "\n",
    "plt.scatter(latplot,windplot)\n",
    "\n",
    "plt.title('City Latitude vs. Wind Speed')\n",
    "plt.xlabel('Latitude')\n",
    "plt.ylabel('Wind Speed (mph)')\n",
    "plt.grid()\n",
    "\n",
    "\n",
    "plt.savefig(\"output_data/Wind_Speed_Plot.PNG\")\n",
    "print(\"This plot is analyzing the wind speed (mph) of all cities on their latitude\")\n",
    "\n",
    "plt.show()"
   ]
  },
  {
   "cell_type": "markdown",
   "metadata": {},
   "source": [
    "## Linear Regression"
   ]
  },
  {
   "cell_type": "code",
   "execution_count": 38,
   "metadata": {},
   "outputs": [],
   "source": [
    "# OPTIONAL: Create a function to create Linear Regression plots\n",
    "def plot_linear_regression(x_values, y_values, y_label, eq_loc):\n",
    "    (slope, intercept, rvalue, pvalue, stderr) = linregress(x_values, y_values)\n",
    "    regress_values = x_values * slope + intercept\n",
    "    line_eq = \"y = \" + str(round(slope,2)) + \"x + \" + str(round(intercept,2))\n",
    "    plt.scatter(x_values, y_values)\n",
    "    plt.plot(x_values,regress_values,\"r-\")\n",
    "    plt.annotate(line_eq,eq_loc,fontsize=15,color=\"red\")\n",
    "    plt.title(f\"Latitude vs. {y_label}\")\n",
    "    plt.xlabel(\"Latitude\")\n",
    "    plt.ylabel(y_label)\n",
    "\n",
    "    print(f\"The correlation between latitude and {y_label} is: {rvalue}\")\n"
   ]
  },
  {
   "cell_type": "code",
   "execution_count": 39,
   "metadata": {},
   "outputs": [
    {
     "data": {
      "text/html": [
       "<div>\n",
       "<style scoped>\n",
       "    .dataframe tbody tr th:only-of-type {\n",
       "        vertical-align: middle;\n",
       "    }\n",
       "\n",
       "    .dataframe tbody tr th {\n",
       "        vertical-align: top;\n",
       "    }\n",
       "\n",
       "    .dataframe thead th {\n",
       "        text-align: right;\n",
       "    }\n",
       "</style>\n",
       "<table border=\"1\" class=\"dataframe\">\n",
       "  <thead>\n",
       "    <tr style=\"text-align: right;\">\n",
       "      <th></th>\n",
       "      <th>City</th>\n",
       "      <th>Latitude</th>\n",
       "      <th>Longitude</th>\n",
       "      <th>Max Temp</th>\n",
       "      <th>Humidity</th>\n",
       "      <th>Cloudiness</th>\n",
       "      <th>Wind Speed</th>\n",
       "      <th>Country</th>\n",
       "      <th>Date</th>\n",
       "    </tr>\n",
       "  </thead>\n",
       "  <tbody>\n",
       "    <tr>\n",
       "      <th>3</th>\n",
       "      <td>Bethel</td>\n",
       "      <td>41.37</td>\n",
       "      <td>-73.41</td>\n",
       "      <td>34.00</td>\n",
       "      <td>69</td>\n",
       "      <td>1</td>\n",
       "      <td>8.05</td>\n",
       "      <td>US</td>\n",
       "      <td>1589083571</td>\n",
       "    </tr>\n",
       "    <tr>\n",
       "      <th>9</th>\n",
       "      <td>Thompson</td>\n",
       "      <td>55.74</td>\n",
       "      <td>-97.86</td>\n",
       "      <td>28.40</td>\n",
       "      <td>63</td>\n",
       "      <td>75</td>\n",
       "      <td>14.99</td>\n",
       "      <td>CA</td>\n",
       "      <td>1589083573</td>\n",
       "    </tr>\n",
       "    <tr>\n",
       "      <th>10</th>\n",
       "      <td>Ayan</td>\n",
       "      <td>56.45</td>\n",
       "      <td>138.17</td>\n",
       "      <td>41.07</td>\n",
       "      <td>66</td>\n",
       "      <td>8</td>\n",
       "      <td>9.17</td>\n",
       "      <td>RU</td>\n",
       "      <td>1589083573</td>\n",
       "    </tr>\n",
       "    <tr>\n",
       "      <th>12</th>\n",
       "      <td>Dikson</td>\n",
       "      <td>73.51</td>\n",
       "      <td>80.55</td>\n",
       "      <td>29.17</td>\n",
       "      <td>97</td>\n",
       "      <td>94</td>\n",
       "      <td>23.44</td>\n",
       "      <td>RU</td>\n",
       "      <td>1589083574</td>\n",
       "    </tr>\n",
       "    <tr>\n",
       "      <th>13</th>\n",
       "      <td>Nikolskoye</td>\n",
       "      <td>59.70</td>\n",
       "      <td>30.79</td>\n",
       "      <td>42.80</td>\n",
       "      <td>60</td>\n",
       "      <td>63</td>\n",
       "      <td>4.47</td>\n",
       "      <td>RU</td>\n",
       "      <td>1589083574</td>\n",
       "    </tr>\n",
       "    <tr>\n",
       "      <th>...</th>\n",
       "      <td>...</td>\n",
       "      <td>...</td>\n",
       "      <td>...</td>\n",
       "      <td>...</td>\n",
       "      <td>...</td>\n",
       "      <td>...</td>\n",
       "      <td>...</td>\n",
       "      <td>...</td>\n",
       "      <td>...</td>\n",
       "    </tr>\n",
       "    <tr>\n",
       "      <th>553</th>\n",
       "      <td>Tambura</td>\n",
       "      <td>5.60</td>\n",
       "      <td>27.47</td>\n",
       "      <td>71.02</td>\n",
       "      <td>77</td>\n",
       "      <td>99</td>\n",
       "      <td>3.69</td>\n",
       "      <td>SS</td>\n",
       "      <td>1589083768</td>\n",
       "    </tr>\n",
       "    <tr>\n",
       "      <th>554</th>\n",
       "      <td>Krasnoarmeysk</td>\n",
       "      <td>51.02</td>\n",
       "      <td>45.70</td>\n",
       "      <td>50.00</td>\n",
       "      <td>85</td>\n",
       "      <td>5</td>\n",
       "      <td>5.99</td>\n",
       "      <td>RU</td>\n",
       "      <td>1589083769</td>\n",
       "    </tr>\n",
       "    <tr>\n",
       "      <th>555</th>\n",
       "      <td>Dhidhdhoo</td>\n",
       "      <td>6.88</td>\n",
       "      <td>73.10</td>\n",
       "      <td>83.71</td>\n",
       "      <td>76</td>\n",
       "      <td>100</td>\n",
       "      <td>5.75</td>\n",
       "      <td>MV</td>\n",
       "      <td>1589083770</td>\n",
       "    </tr>\n",
       "    <tr>\n",
       "      <th>556</th>\n",
       "      <td>Berdigestyakh</td>\n",
       "      <td>62.10</td>\n",
       "      <td>126.70</td>\n",
       "      <td>44.56</td>\n",
       "      <td>52</td>\n",
       "      <td>0</td>\n",
       "      <td>3.36</td>\n",
       "      <td>RU</td>\n",
       "      <td>1589083770</td>\n",
       "    </tr>\n",
       "    <tr>\n",
       "      <th>557</th>\n",
       "      <td>Bilma</td>\n",
       "      <td>18.69</td>\n",
       "      <td>12.92</td>\n",
       "      <td>80.47</td>\n",
       "      <td>15</td>\n",
       "      <td>0</td>\n",
       "      <td>8.25</td>\n",
       "      <td>NE</td>\n",
       "      <td>1589083771</td>\n",
       "    </tr>\n",
       "  </tbody>\n",
       "</table>\n",
       "<p>375 rows × 9 columns</p>\n",
       "</div>"
      ],
      "text/plain": [
       "              City  Latitude  Longitude  Max Temp  Humidity  Cloudiness  \\\n",
       "3           Bethel     41.37     -73.41     34.00        69           1   \n",
       "9         Thompson     55.74     -97.86     28.40        63          75   \n",
       "10            Ayan     56.45     138.17     41.07        66           8   \n",
       "12          Dikson     73.51      80.55     29.17        97          94   \n",
       "13      Nikolskoye     59.70      30.79     42.80        60          63   \n",
       "..             ...       ...        ...       ...       ...         ...   \n",
       "553        Tambura      5.60      27.47     71.02        77          99   \n",
       "554  Krasnoarmeysk     51.02      45.70     50.00        85           5   \n",
       "555      Dhidhdhoo      6.88      73.10     83.71        76         100   \n",
       "556  Berdigestyakh     62.10     126.70     44.56        52           0   \n",
       "557          Bilma     18.69      12.92     80.47        15           0   \n",
       "\n",
       "     Wind Speed Country        Date  \n",
       "3          8.05      US  1589083571  \n",
       "9         14.99      CA  1589083573  \n",
       "10         9.17      RU  1589083573  \n",
       "12        23.44      RU  1589083574  \n",
       "13         4.47      RU  1589083574  \n",
       "..          ...     ...         ...  \n",
       "553        3.69      SS  1589083768  \n",
       "554        5.99      RU  1589083769  \n",
       "555        5.75      MV  1589083770  \n",
       "556        3.36      RU  1589083770  \n",
       "557        8.25      NE  1589083771  \n",
       "\n",
       "[375 rows x 9 columns]"
      ]
     },
     "execution_count": 39,
     "metadata": {},
     "output_type": "execute_result"
    }
   ],
   "source": [
    "# Create Northern and Southern Hemisphere DataFrames\n",
    "North_Hemp=clean_city_data.loc[clean_city_data[\"Latitude\"] >= 0]\n",
    "South_Hemp=clean_city_data.loc[clean_city_data[\"Latitude\"] < 0,:]\n",
    "\n",
    "North_Hemp"
   ]
  },
  {
   "cell_type": "markdown",
   "metadata": {},
   "source": [
    "####  Northern Hemisphere - Max Temp vs. Latitude Linear Regression"
   ]
  },
  {
   "cell_type": "code",
   "execution_count": 40,
   "metadata": {},
   "outputs": [
    {
     "name": "stdout",
     "output_type": "stream",
     "text": [
      "The correlation between latitude and Max Temp is: -0.7917209374012195\n",
      "r value of -0.8 indicates a strong negative correlation between latitude and max temperature in Northern Hemisphere. As latitude increases, max temperature decrases\n"
     ]
    },
    {
     "data": {
      "image/png": "[encoded data removed]",
      "text/plain": [
       "<Figure size 432x288 with 1 Axes>"
      ]
     },
     "metadata": {
      "needs_background": "light"
     },
     "output_type": "display_data"
    }
   ],
   "source": [
    "x_values = North_Hemp[\"Latitude\"]\n",
    "y_values = North_Hemp[\"Max Temp\"]\n",
    "plot_linear_regression(x_values,y_values,'Max Temp',(6,15))\n",
    "\n",
    "plt.savefig(\"output_data/North_Hemisphere_Temp_Plot.PNG\")\n",
    "print(\"r value of -0.8 indicates a strong negative correlation between latitude and max temperature in Northern Hemisphere. As latitude increases, max temperature decrases\")\n",
    "\n",
    "plt.show()"
   ]
  },
  {
   "cell_type": "markdown",
   "metadata": {},
   "source": [
    "####  Southern Hemisphere - Max Temp vs. Latitude Linear Regression"
   ]
  },
  {
   "cell_type": "code",
   "execution_count": 26,
   "metadata": {},
   "outputs": [
    {
     "name": "stdout",
     "output_type": "stream",
     "text": [
      "The correlation between latitude and Max Temp is: 0.7190725654472538\n",
      "r value of 0.72 indicates a strong positive correlation between latitude and max temperature in Southern Hemisphere.\n",
      "As latitude increases, max temperature increases\n"
     ]
    },
    {
     "data": {
      "image/png": "[encoded data removed]",
      "text/plain": [
       "<Figure size 432x288 with 1 Axes>"
      ]
     },
     "metadata": {
      "needs_background": "light"
     },
     "output_type": "display_data"
    }
   ],
   "source": [
    "x_values = South_Hemp[\"Latitude\"]\n",
    "y_values = South_Hemp[\"Max Temp\"]\n",
    "plot_linear_regression(x_values,y_values,'Max Temp',(-25,50))\n",
    "\n",
    "plt.savefig(\"output_data/South_Hemisphere_Temp_Plot.PNG\")\n",
    "print(\"r value of 0.72 indicates a strong positive correlation between latitude and max temperature in Southern Hemisphere.\") \n",
    "print(\"As latitude increases, max temperature increases\")\n",
    "\n",
    "plt.show()"
   ]
  },
  {
   "cell_type": "markdown",
   "metadata": {},
   "source": [
    "####  Northern Hemisphere - Humidity (%) vs. Latitude Linear Regression"
   ]
  },
  {
   "cell_type": "code",
   "execution_count": 41,
   "metadata": {},
   "outputs": [
    {
     "name": "stdout",
     "output_type": "stream",
     "text": [
      "The correlation between latitude and Humidity (%) is: -0.0032905931679346728\n",
      "r value of 0.003 indicates very weak to no correlation between latitude and humidity in Northern Hemisphere.\n"
     ]
    },
    {
     "data": {
      "image/png": "[encoded data removed]",
      "text/plain": [
       "<Figure size 432x288 with 1 Axes>"
      ]
     },
     "metadata": {
      "needs_background": "light"
     },
     "output_type": "display_data"
    }
   ],
   "source": [
    "x_values = North_Hemp[\"Latitude\"]\n",
    "y_values = North_Hemp[\"Humidity\"]\n",
    "plot_linear_regression(x_values,y_values,'Humidity (%)',(70,60))\n",
    "\n",
    "plt.savefig(\"output_data/North_Hemisphere_Humidity_Plot.PNG\")\n",
    "print(\"r value of 0.003 indicates very weak to no correlation between latitude and humidity in Northern Hemisphere.\")\n",
    "\n",
    "plt.show()"
   ]
  },
  {
   "cell_type": "markdown",
   "metadata": {},
   "source": [
    "####  Southern Hemisphere - Humidity (%) vs. Latitude Linear Regression"
   ]
  },
  {
   "cell_type": "code",
   "execution_count": 44,
   "metadata": {},
   "outputs": [
    {
     "name": "stdout",
     "output_type": "stream",
     "text": [
      "The correlation between latitude and Humidity (%) is: 0.20822341398225128\n",
      "r value 0.21 of indicates a weak or no correlation between latitude and humidity in Southern Hemisphere.\n"
     ]
    },
    {
     "data": {
      "image/png": "[encoded data removed]",
      "text/plain": [
       "<Figure size 432x288 with 1 Axes>"
      ]
     },
     "metadata": {
      "needs_background": "light"
     },
     "output_type": "display_data"
    }
   ],
   "source": [
    "x_values = South_Hemp[\"Latitude\"]\n",
    "y_values = South_Hemp[\"Humidity\"]\n",
    "plot_linear_regression(x_values,y_values,'Humidity (%)',(-55,35))\n",
    "\n",
    "plt.savefig(\"output_data/South_Hemisphere_Humid_Plot.PNG\")\n",
    "print(f\"r value 0.21 of indicates a weak or no correlation between latitude and humidity in Southern Hemisphere.\") \n",
    "\n",
    "plt.show()\n"
   ]
  },
  {
   "cell_type": "markdown",
   "metadata": {},
   "source": [
    "####  Northern Hemisphere - Cloudiness (%) vs. Latitude Linear Regression"
   ]
  },
  {
   "cell_type": "code",
   "execution_count": 46,
   "metadata": {},
   "outputs": [
    {
     "name": "stdout",
     "output_type": "stream",
     "text": [
      "The correlation between latitude and Cloudiness (%) is: 0.02377622051342027\n",
      "r value of 0.024 indicates very weak to no correlation between latitude and cloudiness in Northern Hemisphere.\n"
     ]
    },
    {
     "data": {
      "image/png": "[encoded data removed]",
      "text/plain": [
       "<Figure size 432x288 with 1 Axes>"
      ]
     },
     "metadata": {
      "needs_background": "light"
     },
     "output_type": "display_data"
    }
   ],
   "source": [
    "x_values = North_Hemp[\"Latitude\"]\n",
    "y_values = North_Hemp[\"Cloudiness\"]\n",
    "plot_linear_regression(x_values,y_values,'Cloudiness (%)',(40,65))\n",
    "\n",
    "plt.savefig(\"output_data/North_Hemisphere_Cloudiness_Plot.PNG\")\n",
    "print(\"r value of 0.024 indicates very weak to no correlation between latitude and cloudiness in Northern Hemisphere.\")\n",
    "\n",
    "plt.show()"
   ]
  },
  {
   "cell_type": "markdown",
   "metadata": {},
   "source": [
    "####  Southern Hemisphere - Cloudiness (%) vs. Latitude Linear Regression"
   ]
  },
  {
   "cell_type": "code",
   "execution_count": 48,
   "metadata": {},
   "outputs": [
    {
     "name": "stdout",
     "output_type": "stream",
     "text": [
      "The correlation between latitude and Cloudiness (%) is: 0.225236237666489\n",
      "r value of 0.225 indicates a weak or no correlation between latitude and cloudiness in Southern Hemisphere.\n"
     ]
    },
    {
     "data": {
      "image/png": "[encoded data removed]",
      "text/plain": [
       "<Figure size 432x288 with 1 Axes>"
      ]
     },
     "metadata": {
      "needs_background": "light"
     },
     "output_type": "display_data"
    }
   ],
   "source": [
    "x_values = South_Hemp[\"Latitude\"]\n",
    "y_values = South_Hemp[\"Cloudiness\"]\n",
    "plot_linear_regression(x_values,y_values,'Cloudiness (%)',(-55,45))\n",
    "\n",
    "plt.savefig(\"output_data/South_Hemisphere_Cloudiness_Plot.PNG\")\n",
    "print(\"r value of 0.225 indicates a weak or no correlation between latitude and cloudiness in Southern Hemisphere.\") \n",
    "\n",
    "plt.show()"
   ]
  },
  {
   "cell_type": "markdown",
   "metadata": {},
   "source": [
    "####  Northern Hemisphere - Wind Speed (mph) vs. Latitude Linear Regression"
   ]
  },
  {
   "cell_type": "code",
   "execution_count": 50,
   "metadata": {},
   "outputs": [
    {
     "name": "stdout",
     "output_type": "stream",
     "text": [
      "The correlation between latitude and Wind Speed (mph) is: 0.28180181480790567\n",
      "r value of 0.281 indicates very weak to no correlation between latitude and wind speed in Northern Hemisphere.\n"
     ]
    },
    {
     "data": {
      "image/png": "[encoded data removed]",
      "text/plain": [
       "<Figure size 432x288 with 1 Axes>"
      ]
     },
     "metadata": {
      "needs_background": "light"
     },
     "output_type": "display_data"
    }
   ],
   "source": [
    "x_values = North_Hemp[\"Latitude\"]\n",
    "y_values = North_Hemp[\"Wind Speed\"]\n",
    "plot_linear_regression(x_values,y_values,'Wind Speed (mph)',(10,30))\n",
    "\n",
    "plt.savefig(\"output_data/North_Hemisphere_Wind_Speed_Plot.PNG\")\n",
    "print(\"r value of 0.281 indicates very weak to no correlation between latitude and wind speed in Northern Hemisphere.\")\n",
    "\n",
    "plt.show()"
   ]
  },
  {
   "cell_type": "markdown",
   "metadata": {},
   "source": [
    "####  Southern Hemisphere - Wind Speed (mph) vs. Latitude Linear Regression"
   ]
  },
  {
   "cell_type": "code",
   "execution_count": 52,
   "metadata": {},
   "outputs": [
    {
     "name": "stdout",
     "output_type": "stream",
     "text": [
      "The correlation between latitude and Wind Speed (mph) is: 0.04855857611110942\n",
      "r value of 0.049 indicates a weak or no correlation between latitude and wind speed in Southern Hemisphere.\n"
     ]
    },
    {
     "data": {
      "image/png": "[encoded data removed]",
      "text/plain": [
       "<Figure size 432x288 with 1 Axes>"
      ]
     },
     "metadata": {
      "needs_background": "light"
     },
     "output_type": "display_data"
    }
   ],
   "source": [
    "x_values = South_Hemp[\"Latitude\"]\n",
    "y_values = South_Hemp[\"Wind Speed\"]\n",
    "plot_linear_regression(x_values,y_values,'Wind Speed (mph)',(-55,15))\n",
    "\n",
    "plt.savefig(\"output_data/South_Hemisphere_Wind_Speed_Plot.PNG\")\n",
    "print(\"r value of 0.049 indicates a weak or no correlation between latitude and wind speed in Southern Hemisphere.\") \n",
    "\n",
    "plt.show()"
   ]
  },
  {
   "cell_type": "code",
   "execution_count": null,
   "metadata": {},
   "outputs": [],
   "source": []
  }
 ],
 "metadata": {
  "anaconda-cloud": {},
  "kernel_info": {
   "name": "python3"
  },
  "kernelspec": {
   "display_name": "Python 3",
   "language": "python",
   "name": "python3"
  },
  "language_info": {
   "codemirror_mode": {
    "name": "ipython",
    "version": 3
   },
   "file_extension": ".py",
   "mimetype": "text/x-python",
   "name": "python",
   "nbconvert_exporter": "python",
   "pygments_lexer": "ipython3",
   "version": "3.7.7"
  },
  "latex_envs": {
   "LaTeX_envs_menu_present": true,
   "autoclose": false,
   "autocomplete": true,
   "bibliofile": "biblio.bib",
   "cite_by": "apalike",
   "current_citInitial": 1,
   "eqLabelWithNumbers": true,
   "eqNumInitial": 1,
   "hotkeys": {
    "equation": "Ctrl-E",
    "itemize": "Ctrl-I"
   },
   "labels_anchors": false,
   "latex_user_defs": false,
   "report_style_numbering": false,
   "user_envs_cfg": false
  },
  "nteract": {
   "version": "0.12.3"
  }
 },
 "nbformat": 4,
 "nbformat_minor": 4
}
